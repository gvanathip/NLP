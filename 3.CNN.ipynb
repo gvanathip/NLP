{
 "cells": [
  {
   "cell_type": "markdown",
   "metadata": {},
   "source": [
    "# CNN"
   ]
  },
  {
   "cell_type": "markdown",
   "metadata": {},
   "source": [
    "# Adjust Parameters and test text"
   ]
  },
  {
   "cell_type": "markdown",
   "metadata": {},
   "source": [
    "ข้อความที่ทดสอบ ความยาวไม่เกิน 165 ตัวอักษร"
   ]
  },
  {
   "cell_type": "code",
   "execution_count": 85,
   "metadata": {},
   "outputs": [],
   "source": [
    "test_text = \"ส่งผลต่อการพัฒนาเศรษฐกิจโดยตรง\""
   ]
  },
  {
   "cell_type": "code",
   "execution_count": 86,
   "metadata": {},
   "outputs": [],
   "source": [
    "prob = 0.5"
   ]
  },
  {
   "cell_type": "code",
   "execution_count": 87,
   "metadata": {},
   "outputs": [],
   "source": [
    "#model parameter\n",
    "epochs=5\n",
    "batch_size=5"
   ]
  },
  {
   "cell_type": "code",
   "execution_count": 88,
   "metadata": {},
   "outputs": [],
   "source": [
    "#CNN Hyper Parameter\n",
    "recurrent_units=128\n",
    "dropout_rate=0.3\n",
    "recurrent_dropout_rate=0.3\n",
    "dense_size=64\n",
    "kernel_size=10"
   ]
  },
  {
   "cell_type": "markdown",
   "metadata": {},
   "source": [
    "# Start"
   ]
  },
  {
   "cell_type": "code",
   "execution_count": 89,
   "metadata": {},
   "outputs": [],
   "source": [
    "import tensorflow as tf"
   ]
  },
  {
   "cell_type": "code",
   "execution_count": 90,
   "metadata": {},
   "outputs": [],
   "source": [
    "import keras"
   ]
  },
  {
   "cell_type": "code",
   "execution_count": 91,
   "metadata": {
    "scrolled": true
   },
   "outputs": [],
   "source": [
    "import pandas as pd\n",
    "import numpy as np"
   ]
  },
  {
   "cell_type": "code",
   "execution_count": 92,
   "metadata": {},
   "outputs": [],
   "source": [
    "from keras import backend as K\n",
    "from keras.engine.topology import Layer\n",
    "from keras import initializers, regularizers, constraints\n",
    "from keras.models import Model, load_model\n",
    "from keras.layers import Dense, Embedding, Input, concatenate\n",
    "from keras.layers import LSTM, Bidirectional, Dropout, SpatialDropout1D, AveragePooling1D, GlobalAveragePooling1D, TimeDistributed, Masking, Lambda \n",
    "from keras.layers import GRU, MaxPooling1D, Conv1D, GlobalMaxPool1D, Activation, Add, Flatten, BatchNormalization\n",
    "from keras.layers import CuDNNGRU, CuDNNLSTM\n",
    "from keras.layers import Flatten, Dense, Reshape\n",
    "from keras.optimizers import RMSprop, Adam, Nadam\n",
    "from keras.preprocessing import text, sequence\n",
    "from keras.callbacks import EarlyStopping, ModelCheckpoint\n",
    "from keras.utils.np_utils import to_categorical\n",
    "from keras.preprocessing.sequence import pad_sequences"
   ]
  },
  {
   "cell_type": "code",
   "execution_count": 93,
   "metadata": {},
   "outputs": [],
   "source": [
    "from sklearn.metrics import classification_report, confusion_matrix\n",
    "from sklearn import metrics\n",
    "from sklearn.metrics import accuracy_score, precision_score, recall_score, f1_score"
   ]
  },
  {
   "cell_type": "code",
   "execution_count": 94,
   "metadata": {},
   "outputs": [],
   "source": [
    "from keras.utils.np_utils import to_categorical"
   ]
  },
  {
   "cell_type": "code",
   "execution_count": 95,
   "metadata": {},
   "outputs": [],
   "source": [
    "from keras.utils import to_categorical"
   ]
  },
  {
   "cell_type": "markdown",
   "metadata": {},
   "source": [
    "# Import Cleaned Data"
   ]
  },
  {
   "cell_type": "code",
   "execution_count": 96,
   "metadata": {},
   "outputs": [],
   "source": [
    "df = pd.read_csv(\"dataset_orchid_clean.csv\")"
   ]
  },
  {
   "cell_type": "code",
   "execution_count": 97,
   "metadata": {},
   "outputs": [
    {
     "data": {
      "text/html": [
       "<div>\n",
       "<style scoped>\n",
       "    .dataframe tbody tr th:only-of-type {\n",
       "        vertical-align: middle;\n",
       "    }\n",
       "\n",
       "    .dataframe tbody tr th {\n",
       "        vertical-align: top;\n",
       "    }\n",
       "\n",
       "    .dataframe thead th {\n",
       "        text-align: right;\n",
       "    }\n",
       "</style>\n",
       "<table border=\"1\" class=\"dataframe\">\n",
       "  <thead>\n",
       "    <tr style=\"text-align: right;\">\n",
       "      <th></th>\n",
       "      <th>Unnamed: 0</th>\n",
       "      <th>sentence(x)</th>\n",
       "      <th>words</th>\n",
       "      <th>word_with_special_char(y)</th>\n",
       "      <th>sentence_without_space(x_clean)</th>\n",
       "      <th>binary(y)</th>\n",
       "      <th>sentence_len</th>\n",
       "      <th>binary_len</th>\n",
       "    </tr>\n",
       "  </thead>\n",
       "  <tbody>\n",
       "    <tr>\n",
       "      <th>0</th>\n",
       "      <td>0</td>\n",
       "      <td>การประชุมทางวิชาการ ครั้งที่ 1</td>\n",
       "      <td>['การ', 'ประชุม', 'ทาง', 'วิชาการ', 'ครั้ง', '...</td>\n",
       "      <td>['การ', 'ประชุม', 'ทาง', 'วิชาการ', 'ครั้ง', '...</td>\n",
       "      <td>การประชุมทางวิชาการ ครั้งที่ 1</td>\n",
       "      <td>1001000001001000000100001000</td>\n",
       "      <td>28</td>\n",
       "      <td>28</td>\n",
       "    </tr>\n",
       "    <tr>\n",
       "      <th>1</th>\n",
       "      <td>1</td>\n",
       "      <td>โครงการวิจัยและพัฒนาอิเล็กทรอนิกส์และคอมพิวเตอร์</td>\n",
       "      <td>['โครงการวิจัย', 'และ', 'พัฒนา', 'อิเล็กทรอนิก...</td>\n",
       "      <td>['โครงการวิจัย', 'และ', 'พัฒนา', 'อิเล็กทรอนิก...</td>\n",
       "      <td>โครงการวิจัยและพัฒนาอิเล็กทรอนิกส์และคอมพิวเตอร์</td>\n",
       "      <td>100000000000100100001000000000000010010000000000</td>\n",
       "      <td>48</td>\n",
       "      <td>48</td>\n",
       "    </tr>\n",
       "    <tr>\n",
       "      <th>2</th>\n",
       "      <td>2</td>\n",
       "      <td>ปีงบประมาณ 2531</td>\n",
       "      <td>['ปีงบประมาณ', '2531']</td>\n",
       "      <td>['ปีงบประมาณ', '2531']</td>\n",
       "      <td>ปีงบประมาณ 2531</td>\n",
       "      <td>10000000001000</td>\n",
       "      <td>14</td>\n",
       "      <td>14</td>\n",
       "    </tr>\n",
       "    <tr>\n",
       "      <th>3</th>\n",
       "      <td>3</td>\n",
       "      <td>เล่ม 1</td>\n",
       "      <td>['เล่ม', '1']</td>\n",
       "      <td>['เล่ม', '1']</td>\n",
       "      <td>เล่ม 1</td>\n",
       "      <td>10001</td>\n",
       "      <td>5</td>\n",
       "      <td>5</td>\n",
       "    </tr>\n",
       "    <tr>\n",
       "      <th>4</th>\n",
       "      <td>4</td>\n",
       "      <td>ศูนย์เทคโนโลยีอิเล็กทรอนิกส์และคอมพิวเตอร์แห่ง...</td>\n",
       "      <td>['ศูนย์เทคโนโลยีอิเล็กทรอนิกส์และคอมพิวเตอร์แห...</td>\n",
       "      <td>['ศูนย์เทคโนโลยีอิเล็กทรอนิกส์และคอมพิวเตอร์แห...</td>\n",
       "      <td>ศูนย์เทคโนโลยีอิเล็กทรอนิกส์และคอมพิวเตอร์แห่ง...</td>\n",
       "      <td>1000000000000000000000000000000000000000000000...</td>\n",
       "      <td>50</td>\n",
       "      <td>50</td>\n",
       "    </tr>\n",
       "    <tr>\n",
       "      <th>5</th>\n",
       "      <td>5</td>\n",
       "      <td>กระทรวงวิทยาศาสตร์ เทคโนโลยีและการพลังงาน</td>\n",
       "      <td>['กระทรวงวิทยาศาสตร์ เทคโนโลยีและการพลังงาน']</td>\n",
       "      <td>['กระทรวงวิทยาศาสตร์เทคโนโลยีและการพลังงาน']</td>\n",
       "      <td>กระทรวงวิทยาศาสตร์ เทคโนโลยีและการพลังงาน</td>\n",
       "      <td>1000000000000000000000000000000000000000</td>\n",
       "      <td>40</td>\n",
       "      <td>40</td>\n",
       "    </tr>\n",
       "    <tr>\n",
       "      <th>6</th>\n",
       "      <td>6</td>\n",
       "      <td>วันที่ 15-16 สิงหาคม 2532</td>\n",
       "      <td>['วัน', 'ที่ 15', '&lt;minus&gt;', '16', 'สิงหาคม', ...</td>\n",
       "      <td>['วัน', 'ที่15', '-', '16', 'สิงหาคม', '2532']</td>\n",
       "      <td>วันที่ 15-16 สิงหาคม 2532</td>\n",
       "      <td>1001000011010000001000</td>\n",
       "      <td>22</td>\n",
       "      <td>22</td>\n",
       "    </tr>\n",
       "    <tr>\n",
       "      <th>7</th>\n",
       "      <td>7</td>\n",
       "      <td>ห้องประชุม ชั้น 4</td>\n",
       "      <td>['ห้องประชุม', 'ชั้น', '4']</td>\n",
       "      <td>['ห้องประชุม', 'ชั้น', '4']</td>\n",
       "      <td>ห้องประชุม ชั้น 4</td>\n",
       "      <td>100000000010001</td>\n",
       "      <td>15</td>\n",
       "      <td>15</td>\n",
       "    </tr>\n",
       "    <tr>\n",
       "      <th>8</th>\n",
       "      <td>8</td>\n",
       "      <td>สาร</td>\n",
       "      <td>['สาร']</td>\n",
       "      <td>['สาร']</td>\n",
       "      <td>สาร</td>\n",
       "      <td>100</td>\n",
       "      <td>3</td>\n",
       "      <td>3</td>\n",
       "    </tr>\n",
       "    <tr>\n",
       "      <th>9</th>\n",
       "      <td>9</td>\n",
       "      <td>ฯพณฯ รัฐมนตรีว่าการกระทรวงวิทยาศาสตร์ เทคโนโลย...</td>\n",
       "      <td>['ฯพณฯ', 'รัฐมนตรีว่าการ', 'กระทรวงวิทยาศาสตร์...</td>\n",
       "      <td>['ฯพณฯ', 'รัฐมนตรีว่าการ', 'กระทรวงวิทยาศาสตร์...</td>\n",
       "      <td>ฯพณฯ รัฐมนตรีว่าการกระทรวงวิทยาศาสตร์ เทคโนโลย...</td>\n",
       "      <td>1000100000000000001000000000000000000000000000...</td>\n",
       "      <td>58</td>\n",
       "      <td>58</td>\n",
       "    </tr>\n",
       "    <tr>\n",
       "      <th>10</th>\n",
       "      <td>10</td>\n",
       "      <td>ประเทศไทยได้มีการปรับเปลี่ยนโครงสร้างในการพัฒน...</td>\n",
       "      <td>['ประเทศไทย', 'ได้', 'มี', 'การ', 'ปรับเปลี่ยน...</td>\n",
       "      <td>['ประเทศไทย', 'ได้', 'มี', 'การ', 'ปรับเปลี่ยน...</td>\n",
       "      <td>ประเทศไทยได้มีการปรับเปลี่ยนโครงสร้างในการพัฒน...</td>\n",
       "      <td>1000000001001010010000000000100000000101001000...</td>\n",
       "      <td>122</td>\n",
       "      <td>122</td>\n",
       "    </tr>\n",
       "    <tr>\n",
       "      <th>11</th>\n",
       "      <td>11</td>\n",
       "      <td>ในการดำเนินการเพื่อให้บรรลุวัตถุประสงค์ดังกล่า...</td>\n",
       "      <td>['ใน', 'การ', 'ดำเนินการ', 'เพื่อให้', 'บรรลุ'...</td>\n",
       "      <td>['ใน', 'การ', 'ดำเนินการ', 'เพื่อให้', 'บรรลุ'...</td>\n",
       "      <td>ในการดำเนินการเพื่อให้บรรลุวัตถุประสงค์ดังกล่า...</td>\n",
       "      <td>1010010000000010000000100001000000000001000000...</td>\n",
       "      <td>159</td>\n",
       "      <td>159</td>\n",
       "    </tr>\n",
       "    <tr>\n",
       "      <th>12</th>\n",
       "      <td>12</td>\n",
       "      <td>กระทรวงวิทยาศาสตร์ เทคโนโลยีและการพลังงาน จึงไ...</td>\n",
       "      <td>['กระทรวงวิทยาศาสตร์ เทคโนโลยีและการพลังงาน', ...</td>\n",
       "      <td>['กระทรวงวิทยาศาสตร์เทคโนโลยีและการพลังงาน', '...</td>\n",
       "      <td>กระทรวงวิทยาศาสตร์ เทคโนโลยีและการพลังงาน จึงไ...</td>\n",
       "      <td>1000000000000000000000000000000000000000100100...</td>\n",
       "      <td>118</td>\n",
       "      <td>118</td>\n",
       "    </tr>\n",
       "    <tr>\n",
       "      <th>13</th>\n",
       "      <td>13</td>\n",
       "      <td>ซึ่งอุตสาหกรรมนี้จะมีบทบาทที่สำคัญมากในภาคอุตส...</td>\n",
       "      <td>['ซึ่ง', 'อุตสาหกรรม', 'นี้', 'จะ', 'มี', 'บทบ...</td>\n",
       "      <td>['ซึ่ง', 'อุตสาหกรรม', 'นี้', 'จะ', 'มี', 'บทบ...</td>\n",
       "      <td>ซึ่งอุตสาหกรรมนี้จะมีบทบาทที่สำคัญมากในภาคอุตส...</td>\n",
       "      <td>1000100000000010010101000010010000100101000000...</td>\n",
       "      <td>52</td>\n",
       "      <td>52</td>\n",
       "    </tr>\n",
       "    <tr>\n",
       "      <th>14</th>\n",
       "      <td>14</td>\n",
       "      <td>โดยเป็นปัจจัยพื้นฐาน หรือส่วนประกอบที่สำคัญของ...</td>\n",
       "      <td>['โดย', 'เป็น', 'ปัจจัยพื้นฐาน', 'หรือ', 'ส่วน...</td>\n",
       "      <td>['โดย', 'เป็น', 'ปัจจัยพื้นฐาน', 'หรือ', 'ส่วน...</td>\n",
       "      <td>โดยเป็นปัจจัยพื้นฐาน หรือส่วนประกอบที่สำคัญของ...</td>\n",
       "      <td>1001000100000000000010001000000000100100001001...</td>\n",
       "      <td>81</td>\n",
       "      <td>81</td>\n",
       "    </tr>\n",
       "    <tr>\n",
       "      <th>15</th>\n",
       "      <td>15</td>\n",
       "      <td>ในปลายปี 2529 กระทรวงวิทยาศาสตร์ เทคโนโลยีและก...</td>\n",
       "      <td>['ใน', 'ปลายปี', '2529', 'กระทรวงวิทยาศาสตร์ เ...</td>\n",
       "      <td>['ใน', 'ปลายปี', '2529', 'กระทรวงวิทยาศาสตร์เท...</td>\n",
       "      <td>ในปลายปี 2529 กระทรวงวิทยาศาสตร์ เทคโนโลยีและก...</td>\n",
       "      <td>1010000010001000000000000000000000000000000000...</td>\n",
       "      <td>133</td>\n",
       "      <td>133</td>\n",
       "    </tr>\n",
       "    <tr>\n",
       "      <th>16</th>\n",
       "      <td>16</td>\n",
       "      <td>เพื่อพัฒนาเทคโนโลยีอิเล็กทรอนิกส์ในประเทศ และเ...</td>\n",
       "      <td>['เพื่อ', 'พัฒนา', 'เทคโนโลยี', 'อิเล็กทรอนิกส...</td>\n",
       "      <td>['เพื่อ', 'พัฒนา', 'เทคโนโลยี', 'อิเล็กทรอนิกส...</td>\n",
       "      <td>เพื่อพัฒนาเทคโนโลยีอิเล็กทรอนิกส์ในประเทศ และเ...</td>\n",
       "      <td>1000010000100000000100000000000001010000010010...</td>\n",
       "      <td>93</td>\n",
       "      <td>93</td>\n",
       "    </tr>\n",
       "    <tr>\n",
       "      <th>17</th>\n",
       "      <td>17</td>\n",
       "      <td>โดยการสนับสนุนให้มีการวิจัยและพัฒนาในด้านนี้</td>\n",
       "      <td>['โดย', 'การ', 'สนับสนุน', 'ให้', 'มี', 'การ',...</td>\n",
       "      <td>['โดย', 'การ', 'สนับสนุน', 'ให้', 'มี', 'การ',...</td>\n",
       "      <td>โดยการสนับสนุนให้มีการวิจัยและพัฒนาในด้านนี้</td>\n",
       "      <td>10010010000000100101001000000000000101000100</td>\n",
       "      <td>44</td>\n",
       "      <td>44</td>\n",
       "    </tr>\n",
       "    <tr>\n",
       "      <th>18</th>\n",
       "      <td>18</td>\n",
       "      <td>จนถึงขั้นพัฒนาผลของการวิจัยและพัฒนาไปสู่การผลิ...</td>\n",
       "      <td>['จนถึง', 'ขั้น', 'พัฒนา', 'ผล', 'ของ', 'การ',...</td>\n",
       "      <td>['จนถึง', 'ขั้น', 'พัฒนา', 'ผล', 'ของ', 'การ',...</td>\n",
       "      <td>จนถึงขั้นพัฒนาผลของการวิจัยและพัฒนาไปสู่การผลิ...</td>\n",
       "      <td>1000010001000010100100100001001000010000100100...</td>\n",
       "      <td>73</td>\n",
       "      <td>73</td>\n",
       "    </tr>\n",
       "    <tr>\n",
       "      <th>19</th>\n",
       "      <td>19</td>\n",
       "      <td>ตลอดจนสามารถแข่งขันได้ในตลาดภายในและต่างประเทศ</td>\n",
       "      <td>['ตลอดจน', 'สามารถ', 'แข่งขัน', 'ได้', 'ใน', '...</td>\n",
       "      <td>['ตลอดจน', 'สามารถ', 'แข่งขัน', 'ได้', 'ใน', '...</td>\n",
       "      <td>ตลอดจนสามารถแข่งขันได้ในตลาดภายในและต่างประเทศ</td>\n",
       "      <td>1000001000001000000100101000100001001000000000</td>\n",
       "      <td>46</td>\n",
       "      <td>46</td>\n",
       "    </tr>\n",
       "  </tbody>\n",
       "</table>\n",
       "</div>"
      ],
      "text/plain": [
       "    Unnamed: 0                                        sentence(x)  \\\n",
       "0            0                     การประชุมทางวิชาการ ครั้งที่ 1   \n",
       "1            1   โครงการวิจัยและพัฒนาอิเล็กทรอนิกส์และคอมพิวเตอร์   \n",
       "2            2                                    ปีงบประมาณ 2531   \n",
       "3            3                                             เล่ม 1   \n",
       "4            4  ศูนย์เทคโนโลยีอิเล็กทรอนิกส์และคอมพิวเตอร์แห่ง...   \n",
       "5            5          กระทรวงวิทยาศาสตร์ เทคโนโลยีและการพลังงาน   \n",
       "6            6                          วันที่ 15-16 สิงหาคม 2532   \n",
       "7            7                                  ห้องประชุม ชั้น 4   \n",
       "8            8                                                สาร   \n",
       "9            9  ฯพณฯ รัฐมนตรีว่าการกระทรวงวิทยาศาสตร์ เทคโนโลย...   \n",
       "10          10  ประเทศไทยได้มีการปรับเปลี่ยนโครงสร้างในการพัฒน...   \n",
       "11          11  ในการดำเนินการเพื่อให้บรรลุวัตถุประสงค์ดังกล่า...   \n",
       "12          12  กระทรวงวิทยาศาสตร์ เทคโนโลยีและการพลังงาน จึงไ...   \n",
       "13          13  ซึ่งอุตสาหกรรมนี้จะมีบทบาทที่สำคัญมากในภาคอุตส...   \n",
       "14          14  โดยเป็นปัจจัยพื้นฐาน หรือส่วนประกอบที่สำคัญของ...   \n",
       "15          15  ในปลายปี 2529 กระทรวงวิทยาศาสตร์ เทคโนโลยีและก...   \n",
       "16          16  เพื่อพัฒนาเทคโนโลยีอิเล็กทรอนิกส์ในประเทศ และเ...   \n",
       "17          17       โดยการสนับสนุนให้มีการวิจัยและพัฒนาในด้านนี้   \n",
       "18          18  จนถึงขั้นพัฒนาผลของการวิจัยและพัฒนาไปสู่การผลิ...   \n",
       "19          19     ตลอดจนสามารถแข่งขันได้ในตลาดภายในและต่างประเทศ   \n",
       "\n",
       "                                                words  \\\n",
       "0   ['การ', 'ประชุม', 'ทาง', 'วิชาการ', 'ครั้ง', '...   \n",
       "1   ['โครงการวิจัย', 'และ', 'พัฒนา', 'อิเล็กทรอนิก...   \n",
       "2                              ['ปีงบประมาณ', '2531']   \n",
       "3                                       ['เล่ม', '1']   \n",
       "4   ['ศูนย์เทคโนโลยีอิเล็กทรอนิกส์และคอมพิวเตอร์แห...   \n",
       "5       ['กระทรวงวิทยาศาสตร์ เทคโนโลยีและการพลังงาน']   \n",
       "6   ['วัน', 'ที่ 15', '<minus>', '16', 'สิงหาคม', ...   \n",
       "7                         ['ห้องประชุม', 'ชั้น', '4']   \n",
       "8                                             ['สาร']   \n",
       "9   ['ฯพณฯ', 'รัฐมนตรีว่าการ', 'กระทรวงวิทยาศาสตร์...   \n",
       "10  ['ประเทศไทย', 'ได้', 'มี', 'การ', 'ปรับเปลี่ยน...   \n",
       "11  ['ใน', 'การ', 'ดำเนินการ', 'เพื่อให้', 'บรรลุ'...   \n",
       "12  ['กระทรวงวิทยาศาสตร์ เทคโนโลยีและการพลังงาน', ...   \n",
       "13  ['ซึ่ง', 'อุตสาหกรรม', 'นี้', 'จะ', 'มี', 'บทบ...   \n",
       "14  ['โดย', 'เป็น', 'ปัจจัยพื้นฐาน', 'หรือ', 'ส่วน...   \n",
       "15  ['ใน', 'ปลายปี', '2529', 'กระทรวงวิทยาศาสตร์ เ...   \n",
       "16  ['เพื่อ', 'พัฒนา', 'เทคโนโลยี', 'อิเล็กทรอนิกส...   \n",
       "17  ['โดย', 'การ', 'สนับสนุน', 'ให้', 'มี', 'การ',...   \n",
       "18  ['จนถึง', 'ขั้น', 'พัฒนา', 'ผล', 'ของ', 'การ',...   \n",
       "19  ['ตลอดจน', 'สามารถ', 'แข่งขัน', 'ได้', 'ใน', '...   \n",
       "\n",
       "                            word_with_special_char(y)  \\\n",
       "0   ['การ', 'ประชุม', 'ทาง', 'วิชาการ', 'ครั้ง', '...   \n",
       "1   ['โครงการวิจัย', 'และ', 'พัฒนา', 'อิเล็กทรอนิก...   \n",
       "2                              ['ปีงบประมาณ', '2531']   \n",
       "3                                       ['เล่ม', '1']   \n",
       "4   ['ศูนย์เทคโนโลยีอิเล็กทรอนิกส์และคอมพิวเตอร์แห...   \n",
       "5        ['กระทรวงวิทยาศาสตร์เทคโนโลยีและการพลังงาน']   \n",
       "6      ['วัน', 'ที่15', '-', '16', 'สิงหาคม', '2532']   \n",
       "7                         ['ห้องประชุม', 'ชั้น', '4']   \n",
       "8                                             ['สาร']   \n",
       "9   ['ฯพณฯ', 'รัฐมนตรีว่าการ', 'กระทรวงวิทยาศาสตร์...   \n",
       "10  ['ประเทศไทย', 'ได้', 'มี', 'การ', 'ปรับเปลี่ยน...   \n",
       "11  ['ใน', 'การ', 'ดำเนินการ', 'เพื่อให้', 'บรรลุ'...   \n",
       "12  ['กระทรวงวิทยาศาสตร์เทคโนโลยีและการพลังงาน', '...   \n",
       "13  ['ซึ่ง', 'อุตสาหกรรม', 'นี้', 'จะ', 'มี', 'บทบ...   \n",
       "14  ['โดย', 'เป็น', 'ปัจจัยพื้นฐาน', 'หรือ', 'ส่วน...   \n",
       "15  ['ใน', 'ปลายปี', '2529', 'กระทรวงวิทยาศาสตร์เท...   \n",
       "16  ['เพื่อ', 'พัฒนา', 'เทคโนโลยี', 'อิเล็กทรอนิกส...   \n",
       "17  ['โดย', 'การ', 'สนับสนุน', 'ให้', 'มี', 'การ',...   \n",
       "18  ['จนถึง', 'ขั้น', 'พัฒนา', 'ผล', 'ของ', 'การ',...   \n",
       "19  ['ตลอดจน', 'สามารถ', 'แข่งขัน', 'ได้', 'ใน', '...   \n",
       "\n",
       "                      sentence_without_space(x_clean)  \\\n",
       "0                      การประชุมทางวิชาการ ครั้งที่ 1   \n",
       "1    โครงการวิจัยและพัฒนาอิเล็กทรอนิกส์และคอมพิวเตอร์   \n",
       "2                                     ปีงบประมาณ 2531   \n",
       "3                                              เล่ม 1   \n",
       "4   ศูนย์เทคโนโลยีอิเล็กทรอนิกส์และคอมพิวเตอร์แห่ง...   \n",
       "5           กระทรวงวิทยาศาสตร์ เทคโนโลยีและการพลังงาน   \n",
       "6                           วันที่ 15-16 สิงหาคม 2532   \n",
       "7                                   ห้องประชุม ชั้น 4   \n",
       "8                                                 สาร   \n",
       "9   ฯพณฯ รัฐมนตรีว่าการกระทรวงวิทยาศาสตร์ เทคโนโลย...   \n",
       "10  ประเทศไทยได้มีการปรับเปลี่ยนโครงสร้างในการพัฒน...   \n",
       "11  ในการดำเนินการเพื่อให้บรรลุวัตถุประสงค์ดังกล่า...   \n",
       "12  กระทรวงวิทยาศาสตร์ เทคโนโลยีและการพลังงาน จึงไ...   \n",
       "13  ซึ่งอุตสาหกรรมนี้จะมีบทบาทที่สำคัญมากในภาคอุตส...   \n",
       "14  โดยเป็นปัจจัยพื้นฐาน หรือส่วนประกอบที่สำคัญของ...   \n",
       "15  ในปลายปี 2529 กระทรวงวิทยาศาสตร์ เทคโนโลยีและก...   \n",
       "16  เพื่อพัฒนาเทคโนโลยีอิเล็กทรอนิกส์ในประเทศ และเ...   \n",
       "17       โดยการสนับสนุนให้มีการวิจัยและพัฒนาในด้านนี้   \n",
       "18  จนถึงขั้นพัฒนาผลของการวิจัยและพัฒนาไปสู่การผลิ...   \n",
       "19     ตลอดจนสามารถแข่งขันได้ในตลาดภายในและต่างประเทศ   \n",
       "\n",
       "                                            binary(y)  sentence_len  \\\n",
       "0                        1001000001001000000100001000            28   \n",
       "1    100000000000100100001000000000000010010000000000            48   \n",
       "2                                      10000000001000            14   \n",
       "3                                               10001             5   \n",
       "4   1000000000000000000000000000000000000000000000...            50   \n",
       "5            1000000000000000000000000000000000000000            40   \n",
       "6                              1001000011010000001000            22   \n",
       "7                                     100000000010001            15   \n",
       "8                                                 100             3   \n",
       "9   1000100000000000001000000000000000000000000000...            58   \n",
       "10  1000000001001010010000000000100000000101001000...           122   \n",
       "11  1010010000000010000000100001000000000001000000...           159   \n",
       "12  1000000000000000000000000000000000000000100100...           118   \n",
       "13  1000100000000010010101000010010000100101000000...            52   \n",
       "14  1001000100000000000010001000000000100100001001...            81   \n",
       "15  1010000010001000000000000000000000000000000000...           133   \n",
       "16  1000010000100000000100000000000001010000010010...            93   \n",
       "17       10010010000000100101001000000000000101000100            44   \n",
       "18  1000010001000010100100100001001000010000100100...            73   \n",
       "19     1000001000001000000100101000100001001000000000            46   \n",
       "\n",
       "    binary_len  \n",
       "0           28  \n",
       "1           48  \n",
       "2           14  \n",
       "3            5  \n",
       "4           50  \n",
       "5           40  \n",
       "6           22  \n",
       "7           15  \n",
       "8            3  \n",
       "9           58  \n",
       "10         122  \n",
       "11         159  \n",
       "12         118  \n",
       "13          52  \n",
       "14          81  \n",
       "15         133  \n",
       "16          93  \n",
       "17          44  \n",
       "18          73  \n",
       "19          46  "
      ]
     },
     "execution_count": 97,
     "metadata": {},
     "output_type": "execute_result"
    }
   ],
   "source": [
    "df.head(20)"
   ]
  },
  {
   "cell_type": "markdown",
   "metadata": {},
   "source": [
    "# Split String to List of Chars"
   ]
  },
  {
   "cell_type": "code",
   "execution_count": 98,
   "metadata": {},
   "outputs": [],
   "source": [
    "def split(word): \n",
    "    return [char for char in word]  "
   ]
  },
  {
   "cell_type": "code",
   "execution_count": 99,
   "metadata": {},
   "outputs": [],
   "source": [
    "df['char(x)'] = df['sentence_without_space(x_clean)'].apply(split)\n",
    "df['bit(y)'] = df['binary(y)'].apply(split)"
   ]
  },
  {
   "cell_type": "code",
   "execution_count": 100,
   "metadata": {},
   "outputs": [],
   "source": [
    "df['len_x'] = df['char(x)'].apply(len)\n",
    "df['len_y'] = df['bit(y)'].apply(len)"
   ]
  },
  {
   "cell_type": "code",
   "execution_count": 101,
   "metadata": {},
   "outputs": [],
   "source": [
    "df = df[df['len_x']==df['len_y']]"
   ]
  },
  {
   "cell_type": "code",
   "execution_count": 102,
   "metadata": {},
   "outputs": [],
   "source": [
    "char_x = df[['char(x)']]\n",
    "bit_y = df[['bit(y)']]"
   ]
  },
  {
   "cell_type": "code",
   "execution_count": 103,
   "metadata": {},
   "outputs": [
    {
     "data": {
      "text/html": [
       "<div>\n",
       "<style scoped>\n",
       "    .dataframe tbody tr th:only-of-type {\n",
       "        vertical-align: middle;\n",
       "    }\n",
       "\n",
       "    .dataframe tbody tr th {\n",
       "        vertical-align: top;\n",
       "    }\n",
       "\n",
       "    .dataframe thead th {\n",
       "        text-align: right;\n",
       "    }\n",
       "</style>\n",
       "<table border=\"1\" class=\"dataframe\">\n",
       "  <thead>\n",
       "    <tr style=\"text-align: right;\">\n",
       "      <th></th>\n",
       "      <th>char(x)</th>\n",
       "    </tr>\n",
       "  </thead>\n",
       "  <tbody>\n",
       "    <tr>\n",
       "      <th>1</th>\n",
       "      <td>[โ, ค, ร, ง, ก, า, ร, ว, ิ, จ, ั, ย, แ, ล, ะ, ...</td>\n",
       "    </tr>\n",
       "    <tr>\n",
       "      <th>4</th>\n",
       "      <td>[ศ, ู, น, ย, ์, เ, ท, ค, โ, น, โ, ล, ย, ี, อ, ...</td>\n",
       "    </tr>\n",
       "    <tr>\n",
       "      <th>8</th>\n",
       "      <td>[ส, า, ร]</td>\n",
       "    </tr>\n",
       "    <tr>\n",
       "      <th>13</th>\n",
       "      <td>[ซ, ึ, ่, ง, อ, ุ, ต, ส, า, ห, ก, ร, ร, ม, น, ...</td>\n",
       "    </tr>\n",
       "    <tr>\n",
       "      <th>17</th>\n",
       "      <td>[โ, ด, ย, ก, า, ร, ส, น, ั, บ, ส, น, ุ, น, ใ, ...</td>\n",
       "    </tr>\n",
       "  </tbody>\n",
       "</table>\n",
       "</div>"
      ],
      "text/plain": [
       "                                              char(x)\n",
       "1   [โ, ค, ร, ง, ก, า, ร, ว, ิ, จ, ั, ย, แ, ล, ะ, ...\n",
       "4   [ศ, ู, น, ย, ์, เ, ท, ค, โ, น, โ, ล, ย, ี, อ, ...\n",
       "8                                           [ส, า, ร]\n",
       "13  [ซ, ึ, ่, ง, อ, ุ, ต, ส, า, ห, ก, ร, ร, ม, น, ...\n",
       "17  [โ, ด, ย, ก, า, ร, ส, น, ั, บ, ส, น, ุ, น, ใ, ..."
      ]
     },
     "execution_count": 103,
     "metadata": {},
     "output_type": "execute_result"
    }
   ],
   "source": [
    "char_x.head()"
   ]
  },
  {
   "cell_type": "code",
   "execution_count": 104,
   "metadata": {},
   "outputs": [
    {
     "data": {
      "text/html": [
       "<div>\n",
       "<style scoped>\n",
       "    .dataframe tbody tr th:only-of-type {\n",
       "        vertical-align: middle;\n",
       "    }\n",
       "\n",
       "    .dataframe tbody tr th {\n",
       "        vertical-align: top;\n",
       "    }\n",
       "\n",
       "    .dataframe thead th {\n",
       "        text-align: right;\n",
       "    }\n",
       "</style>\n",
       "<table border=\"1\" class=\"dataframe\">\n",
       "  <thead>\n",
       "    <tr style=\"text-align: right;\">\n",
       "      <th></th>\n",
       "      <th>bit(y)</th>\n",
       "    </tr>\n",
       "  </thead>\n",
       "  <tbody>\n",
       "    <tr>\n",
       "      <th>1</th>\n",
       "      <td>[1, 0, 0, 0, 0, 0, 0, 0, 0, 0, 0, 0, 1, 0, 0, ...</td>\n",
       "    </tr>\n",
       "    <tr>\n",
       "      <th>4</th>\n",
       "      <td>[1, 0, 0, 0, 0, 0, 0, 0, 0, 0, 0, 0, 0, 0, 0, ...</td>\n",
       "    </tr>\n",
       "    <tr>\n",
       "      <th>8</th>\n",
       "      <td>[1, 0, 0]</td>\n",
       "    </tr>\n",
       "    <tr>\n",
       "      <th>13</th>\n",
       "      <td>[1, 0, 0, 0, 1, 0, 0, 0, 0, 0, 0, 0, 0, 0, 1, ...</td>\n",
       "    </tr>\n",
       "    <tr>\n",
       "      <th>17</th>\n",
       "      <td>[1, 0, 0, 1, 0, 0, 1, 0, 0, 0, 0, 0, 0, 0, 1, ...</td>\n",
       "    </tr>\n",
       "  </tbody>\n",
       "</table>\n",
       "</div>"
      ],
      "text/plain": [
       "                                               bit(y)\n",
       "1   [1, 0, 0, 0, 0, 0, 0, 0, 0, 0, 0, 0, 1, 0, 0, ...\n",
       "4   [1, 0, 0, 0, 0, 0, 0, 0, 0, 0, 0, 0, 0, 0, 0, ...\n",
       "8                                           [1, 0, 0]\n",
       "13  [1, 0, 0, 0, 1, 0, 0, 0, 0, 0, 0, 0, 0, 0, 1, ...\n",
       "17  [1, 0, 0, 1, 0, 0, 1, 0, 0, 0, 0, 0, 0, 0, 1, ..."
      ]
     },
     "execution_count": 104,
     "metadata": {},
     "output_type": "execute_result"
    }
   ],
   "source": [
    "bit_y.head()"
   ]
  },
  {
   "cell_type": "markdown",
   "metadata": {},
   "source": [
    "# Convert Chars (x) to Numbers (order) then Padding"
   ]
  },
  {
   "cell_type": "code",
   "execution_count": 105,
   "metadata": {},
   "outputs": [],
   "source": [
    "sequence_x = []\n",
    "for i in char_x['char(x)']:\n",
    "    conv = []\n",
    "    for j in i:\n",
    "        conv.append(ord(j))\n",
    "    sequence_x.append(conv)"
   ]
  },
  {
   "cell_type": "code",
   "execution_count": 106,
   "metadata": {},
   "outputs": [],
   "source": [
    "x = pad_sequences(sequence_x,padding='post')"
   ]
  },
  {
   "cell_type": "code",
   "execution_count": 107,
   "metadata": {},
   "outputs": [
    {
     "data": {
      "text/plain": [
       "array([[3650, 3588, 3619, ...,    0,    0,    0],\n",
       "       [3624, 3641, 3609, ...,    0,    0,    0],\n",
       "       [3626, 3634, 3619, ...,    0,    0,    0],\n",
       "       ...,\n",
       "       [3649, 3621, 3632, ...,    0,    0,    0],\n",
       "       [3607, 3635, 3651, ...,    0,    0,    0],\n",
       "       [3592, 3632, 3617, ...,    0,    0,    0]])"
      ]
     },
     "execution_count": 107,
     "metadata": {},
     "output_type": "execute_result"
    }
   ],
   "source": [
    "x"
   ]
  },
  {
   "cell_type": "code",
   "execution_count": 108,
   "metadata": {},
   "outputs": [
    {
     "data": {
      "text/plain": [
       "(4942, 165)"
      ]
     },
     "execution_count": 108,
     "metadata": {},
     "output_type": "execute_result"
    }
   ],
   "source": [
    "x.shape"
   ]
  },
  {
   "cell_type": "markdown",
   "metadata": {},
   "source": [
    "# Padding Binary (y)"
   ]
  },
  {
   "cell_type": "code",
   "execution_count": 109,
   "metadata": {},
   "outputs": [],
   "source": [
    "sequence_y = []\n",
    "for i in bit_y['bit(y)']:\n",
    "    conc = []\n",
    "    for j in i:\n",
    "        conc.append(j)\n",
    "    sequence_y.append(conc)"
   ]
  },
  {
   "cell_type": "code",
   "execution_count": 110,
   "metadata": {},
   "outputs": [],
   "source": [
    "y = pad_sequences(sequence_y,padding='post')"
   ]
  },
  {
   "cell_type": "code",
   "execution_count": 111,
   "metadata": {},
   "outputs": [
    {
     "data": {
      "text/plain": [
       "array([[1, 0, 0, ..., 0, 0, 0],\n",
       "       [1, 0, 0, ..., 0, 0, 0],\n",
       "       [1, 0, 0, ..., 0, 0, 0],\n",
       "       ...,\n",
       "       [1, 0, 0, ..., 0, 0, 0],\n",
       "       [1, 0, 0, ..., 0, 0, 0],\n",
       "       [1, 0, 1, ..., 0, 0, 0]])"
      ]
     },
     "execution_count": 111,
     "metadata": {},
     "output_type": "execute_result"
    }
   ],
   "source": [
    "y"
   ]
  },
  {
   "cell_type": "code",
   "execution_count": 112,
   "metadata": {},
   "outputs": [
    {
     "data": {
      "text/plain": [
       "(4942, 165)"
      ]
     },
     "execution_count": 112,
     "metadata": {},
     "output_type": "execute_result"
    }
   ],
   "source": [
    "y.shape"
   ]
  },
  {
   "cell_type": "markdown",
   "metadata": {},
   "source": [
    "# Split Data to Train/Test"
   ]
  },
  {
   "cell_type": "code",
   "execution_count": 113,
   "metadata": {},
   "outputs": [],
   "source": [
    "from sklearn.model_selection import train_test_split"
   ]
  },
  {
   "cell_type": "code",
   "execution_count": 114,
   "metadata": {},
   "outputs": [],
   "source": [
    "x_train, x_test, y_train, y_test = train_test_split(x, y, test_size=0.25, random_state=1000)"
   ]
  },
  {
   "cell_type": "code",
   "execution_count": 115,
   "metadata": {},
   "outputs": [
    {
     "data": {
      "text/plain": [
       "array([[3648, 3614, 3639, ...,    0,    0,    0],\n",
       "       [3649, 3621, 3632, ...,    0,    0,    0],\n",
       "       [3648, 3614, 3639, ...,    0,    0,    0],\n",
       "       ...,\n",
       "       [3650, 3604, 3618, ...,    0,    0,    0],\n",
       "       [3648, 3611, 3655, ...,    0,    0,    0],\n",
       "       [3588, 3621, 3639, ...,    0,    0,    0]])"
      ]
     },
     "execution_count": 115,
     "metadata": {},
     "output_type": "execute_result"
    }
   ],
   "source": [
    "x_train"
   ]
  },
  {
   "cell_type": "code",
   "execution_count": 116,
   "metadata": {},
   "outputs": [
    {
     "data": {
      "text/plain": [
       "array([[1, 0, 0, ..., 0, 0, 0],\n",
       "       [1, 0, 0, ..., 0, 0, 0],\n",
       "       [1, 0, 0, ..., 0, 0, 0],\n",
       "       ...,\n",
       "       [1, 0, 0, ..., 0, 0, 0],\n",
       "       [1, 0, 0, ..., 0, 0, 0],\n",
       "       [1, 0, 0, ..., 0, 0, 0]])"
      ]
     },
     "execution_count": 116,
     "metadata": {},
     "output_type": "execute_result"
    }
   ],
   "source": [
    "y_train"
   ]
  },
  {
   "cell_type": "code",
   "execution_count": 117,
   "metadata": {},
   "outputs": [
    {
     "name": "stdout",
     "output_type": "stream",
     "text": [
      "shape\n",
      "x_train :  (3706, 165) y_train :  (3706, 165)\n",
      "x_test :  (1236, 165) y_test :  (1236, 165)\n"
     ]
    }
   ],
   "source": [
    "print(\"shape\")\n",
    "print(\"x_train : \",x_train.shape,\"y_train : \",y_train.shape)\n",
    "print(\"x_test : \",x_test.shape,\"y_test : \",y_test.shape)"
   ]
  },
  {
   "cell_type": "markdown",
   "metadata": {},
   "source": [
    "# Train CNN"
   ]
  },
  {
   "cell_type": "code",
   "execution_count": 118,
   "metadata": {},
   "outputs": [],
   "source": [
    "#CNN Hyper Parameter\n",
    "maxlen=165 \n",
    "embed_size=1\n",
    "nb_classes=2"
   ]
  },
  {
   "cell_type": "code",
   "execution_count": 119,
   "metadata": {},
   "outputs": [],
   "source": [
    "def cnn(maxlen, embed_size, recurrent_units, dropout_rate, recurrent_dropout_rate, dense_size, nb_classes):\n",
    "    #inp = Input(shape=(maxlen, ))\n",
    "    input_layer = Input(shape=(maxlen, embed_size), )\n",
    "    #x = Embedding(max_features, embed_size, weights=[embedding_matrix], trainable=False)(inp)\n",
    "    x = Dropout(dropout_rate)(input_layer) \n",
    "    x = Conv1D(filters=recurrent_units, kernel_size=kernel_size, padding='same', activation='relu')(x)\n",
    "#    x = MaxPooling1D(pool_size=2)(x)\n",
    "#    x = Conv1D(filters=recurrent_units, kernel_size=2, padding='same', activation='relu')(x)\n",
    "#    x = MaxPooling1D(pool_size=2)(x)\n",
    "#    x = Conv1D(filters=recurrent_units, kernel_size=2, padding='same', activation='relu')(x)\n",
    "#    x = MaxPooling1D(pool_size=2)(x)\n",
    "#    x = GRU(recurrent_units)(x)\n",
    "#    x = Dropout(dropout_rate)(x)\n",
    "    x = Dense(dense_size, activation=\"relu\")(x)\n",
    "    x = Dense(nb_classes, activation=\"sigmoid\")(x)\n",
    "    model = Model(inputs=input_layer, outputs=x)\n",
    "    model.summary()  \n",
    "    model.compile(loss='binary_crossentropy', optimizer='adam', metrics=['accuracy'])\n",
    "    return model "
   ]
  },
  {
   "cell_type": "code",
   "execution_count": 120,
   "metadata": {},
   "outputs": [
    {
     "name": "stdout",
     "output_type": "stream",
     "text": [
      "Model: \"model_2\"\n",
      "_________________________________________________________________\n",
      "Layer (type)                 Output Shape              Param #   \n",
      "=================================================================\n",
      "input_2 (InputLayer)         (None, 165, 1)            0         \n",
      "_________________________________________________________________\n",
      "dropout_2 (Dropout)          (None, 165, 1)            0         \n",
      "_________________________________________________________________\n",
      "conv1d_2 (Conv1D)            (None, 165, 128)          1408      \n",
      "_________________________________________________________________\n",
      "dense_3 (Dense)              (None, 165, 64)           8256      \n",
      "_________________________________________________________________\n",
      "dense_4 (Dense)              (None, 165, 2)            130       \n",
      "=================================================================\n",
      "Total params: 9,794\n",
      "Trainable params: 9,794\n",
      "Non-trainable params: 0\n",
      "_________________________________________________________________\n"
     ]
    }
   ],
   "source": [
    "model_CNN = cnn(maxlen=maxlen,embed_size=embed_size,recurrent_units=recurrent_units,dropout_rate=dropout_rate,recurrent_dropout_rate=recurrent_dropout_rate, dense_size=dense_size,nb_classes=nb_classes)"
   ]
  },
  {
   "cell_type": "markdown",
   "metadata": {},
   "source": [
    "# Reshape to array to fit model"
   ]
  },
  {
   "cell_type": "code",
   "execution_count": 121,
   "metadata": {},
   "outputs": [],
   "source": [
    "from keras.utils import to_categorical\n",
    "y_train_cnn = to_categorical(y_train)\n",
    "y_test_cnn = to_categorical(y_test)"
   ]
  },
  {
   "cell_type": "code",
   "execution_count": 122,
   "metadata": {},
   "outputs": [],
   "source": [
    "# y_train_cnn = y_train.reshape(y_train.shape[0],y_train.shape[1],1)\n",
    "# y_test_cnn = y_test.reshape(y_test.shape[0],y_test.shape[1],1)"
   ]
  },
  {
   "cell_type": "code",
   "execution_count": 123,
   "metadata": {},
   "outputs": [],
   "source": [
    "x_train_cnn = x_train.reshape(x_train.shape[0],x_train.shape[1],1)\n",
    "x_test_cnn = x_test.reshape(x_test.shape[0],x_test.shape[1],1)"
   ]
  },
  {
   "cell_type": "code",
   "execution_count": 124,
   "metadata": {},
   "outputs": [
    {
     "name": "stdout",
     "output_type": "stream",
     "text": [
      "shape\n",
      "x_train_cnn :  (3706, 165, 1) y_train_cnn :  (3706, 165, 2)\n",
      "x_test_cnn :  (1236, 165, 1) y_test_cnn :  (1236, 165, 2)\n"
     ]
    }
   ],
   "source": [
    "print(\"shape\")\n",
    "print(\"x_train_cnn : \",x_train_cnn.shape,\"y_train_cnn : \",y_train_cnn.shape)\n",
    "print(\"x_test_cnn : \",x_test_cnn.shape,\"y_test_cnn : \",y_test_cnn.shape)"
   ]
  },
  {
   "cell_type": "markdown",
   "metadata": {},
   "source": [
    "# Fit model CNN"
   ]
  },
  {
   "cell_type": "code",
   "execution_count": 125,
   "metadata": {},
   "outputs": [],
   "source": [
    "CNN = model_CNN.fit(x_train_cnn, y_train_cnn,\n",
    "                    epochs=epochs,\n",
    "                    verbose=False,\n",
    "                    validation_data=(x_test_cnn, y_test_cnn),\n",
    "                    batch_size=batch_size)"
   ]
  },
  {
   "cell_type": "code",
   "execution_count": 126,
   "metadata": {},
   "outputs": [
    {
     "name": "stdout",
     "output_type": "stream",
     "text": [
      "Training Accuracy: 0.8786\n",
      "Testing Accuracy:  0.8790\n"
     ]
    }
   ],
   "source": [
    "loss, accuracy = model_CNN.evaluate(x_train_cnn, y_train_cnn, verbose=False)\n",
    "print(\"Training Accuracy: {:.4f}\".format(accuracy))\n",
    "loss, accuracy = model_CNN.evaluate(x_test_cnn, y_test_cnn, verbose=False)\n",
    "print(\"Testing Accuracy:  {:.4f}\".format(accuracy))"
   ]
  },
  {
   "cell_type": "code",
   "execution_count": 127,
   "metadata": {},
   "outputs": [],
   "source": [
    "y_prob_cnn = model_CNN.predict(x_test_cnn)"
   ]
  },
  {
   "cell_type": "code",
   "execution_count": 128,
   "metadata": {},
   "outputs": [],
   "source": [
    "y_pred_cnn = np.where(y_prob_cnn > prob, 1, 0)"
   ]
  },
  {
   "cell_type": "code",
   "execution_count": 129,
   "metadata": {},
   "outputs": [
    {
     "data": {
      "text/plain": [
       "(1236, 165, 2)"
      ]
     },
     "execution_count": 129,
     "metadata": {},
     "output_type": "execute_result"
    }
   ],
   "source": [
    "y_prob_cnn.shape"
   ]
  },
  {
   "cell_type": "code",
   "execution_count": 130,
   "metadata": {},
   "outputs": [],
   "source": [
    "y_pred_cnn = np.argmax(y_pred_cnn, axis=-1)"
   ]
  },
  {
   "cell_type": "code",
   "execution_count": 131,
   "metadata": {},
   "outputs": [
    {
     "data": {
      "text/plain": [
       "(1236, 165)"
      ]
     },
     "execution_count": 131,
     "metadata": {},
     "output_type": "execute_result"
    }
   ],
   "source": [
    "y_pred_cnn.shape"
   ]
  },
  {
   "cell_type": "code",
   "execution_count": 132,
   "metadata": {},
   "outputs": [],
   "source": [
    "# y_prob_cnn_list = np.squeeze(y_prob_cnn).flatten().tolist()"
   ]
  },
  {
   "cell_type": "code",
   "execution_count": 133,
   "metadata": {},
   "outputs": [],
   "source": [
    "# len(y_prob_cnn_list)"
   ]
  },
  {
   "cell_type": "code",
   "execution_count": 134,
   "metadata": {},
   "outputs": [],
   "source": [
    "# y_pred_cnn = np.where(y_prob_cnn > prob, 1, 0)\n",
    "# y_pred_cnn = np.squeeze(y_pred_cnn)"
   ]
  },
  {
   "cell_type": "code",
   "execution_count": 135,
   "metadata": {},
   "outputs": [
    {
     "data": {
      "text/plain": [
       "array([[1, 0, 0, ..., 0, 0, 0],\n",
       "       [1, 0, 0, ..., 0, 0, 0],\n",
       "       [1, 0, 0, ..., 0, 0, 0],\n",
       "       ...,\n",
       "       [1, 0, 0, ..., 0, 0, 0],\n",
       "       [1, 0, 0, ..., 0, 0, 0],\n",
       "       [1, 0, 0, ..., 0, 0, 0]])"
      ]
     },
     "execution_count": 135,
     "metadata": {},
     "output_type": "execute_result"
    }
   ],
   "source": [
    "y_test"
   ]
  },
  {
   "cell_type": "code",
   "execution_count": 136,
   "metadata": {},
   "outputs": [
    {
     "data": {
      "text/plain": [
       "array([[0, 0, 0, ..., 0, 0, 0],\n",
       "       [0, 0, 0, ..., 0, 0, 0],\n",
       "       [0, 0, 0, ..., 0, 0, 0],\n",
       "       ...,\n",
       "       [0, 0, 0, ..., 0, 0, 0],\n",
       "       [0, 0, 0, ..., 0, 0, 0],\n",
       "       [0, 0, 0, ..., 0, 0, 0]], dtype=int64)"
      ]
     },
     "execution_count": 136,
     "metadata": {},
     "output_type": "execute_result"
    }
   ],
   "source": [
    "y_pred_cnn"
   ]
  },
  {
   "cell_type": "code",
   "execution_count": 137,
   "metadata": {},
   "outputs": [],
   "source": [
    "y_test_list = y_test.flatten().tolist()\n",
    "y_pred_cnn_list = y_pred_cnn.flatten().tolist()"
   ]
  },
  {
   "cell_type": "code",
   "execution_count": 138,
   "metadata": {},
   "outputs": [],
   "source": [
    "matrix_cnn = confusion_matrix(y_test_list, y_pred_cnn_list)"
   ]
  },
  {
   "cell_type": "code",
   "execution_count": 139,
   "metadata": {},
   "outputs": [
    {
     "data": {
      "text/plain": [
       "array([[192593,      0],\n",
       "       [ 11347,      0]], dtype=int64)"
      ]
     },
     "execution_count": 139,
     "metadata": {},
     "output_type": "execute_result"
    }
   ],
   "source": [
    "matrix_cnn"
   ]
  },
  {
   "cell_type": "code",
   "execution_count": 140,
   "metadata": {},
   "outputs": [
    {
     "name": "stdout",
     "output_type": "stream",
     "text": [
      "accuracy_score :  0.9443610865940963\n"
     ]
    },
    {
     "name": "stderr",
     "output_type": "stream",
     "text": [
      "C:\\Users\\user\\Anaconda3\\lib\\site-packages\\sklearn\\metrics\\classification.py:1437: UndefinedMetricWarning: Precision is ill-defined and being set to 0.0 due to no predicted samples.\n",
      "  'precision', 'predicted', average, warn_for)\n"
     ]
    },
    {
     "name": "stdout",
     "output_type": "stream",
     "text": [
      "precision_score :  0.0\n",
      "recall_score :  0.0\n",
      "f1_score :  0.0\n"
     ]
    },
    {
     "name": "stderr",
     "output_type": "stream",
     "text": [
      "C:\\Users\\user\\Anaconda3\\lib\\site-packages\\sklearn\\metrics\\classification.py:1437: UndefinedMetricWarning: F-score is ill-defined and being set to 0.0 due to no predicted samples.\n",
      "  'precision', 'predicted', average, warn_for)\n"
     ]
    }
   ],
   "source": [
    "print('accuracy_score : ',accuracy_score(y_test_list, y_pred_cnn_list))\n",
    "print('precision_score : ',precision_score(y_test_list, y_pred_cnn_list))\n",
    "print('recall_score : ',recall_score(y_test_list, y_pred_cnn_list))\n",
    "print('f1_score : ',f1_score(y_test_list, y_pred_cnn_list))"
   ]
  },
  {
   "cell_type": "code",
   "execution_count": 141,
   "metadata": {},
   "outputs": [],
   "source": [
    "import matplotlib.pyplot as plt\n",
    "plt.style.use('ggplot')\n",
    "\n",
    "def plot_history(history):\n",
    "    acc = history.history['accuracy']\n",
    "    val_acc = history.history['val_accuracy']\n",
    "    loss = history.history['loss']\n",
    "    val_loss = history.history['val_loss']\n",
    "    x = range(1, len(acc) + 1)\n",
    "\n",
    "    plt.figure(figsize=(12, 5))\n",
    "    plt.subplot(1, 2, 1)\n",
    "    plt.plot(x, acc, 'b', label='Training accuracy')\n",
    "    plt.plot(x, val_acc, 'r', label='Validation accuracy')\n",
    "    plt.title('Training and validation accuracy')\n",
    "    plt.legend()\n",
    "    plt.subplot(1, 2, 2)\n",
    "    plt.plot(x, loss, 'b', label='Training loss')\n",
    "    plt.plot(x, val_loss, 'r', label='Validation loss')\n",
    "    plt.title('Training and validation loss')\n",
    "    plt.legend()"
   ]
  },
  {
   "cell_type": "code",
   "execution_count": 142,
   "metadata": {},
   "outputs": [
    {
     "data": {
      "image/png": "[encoded data removed]",
      "text/plain": [
       "<Figure size 864x360 with 2 Axes>"
      ]
     },
     "metadata": {},
     "output_type": "display_data"
    }
   ],
   "source": [
    "plot_history(CNN)"
   ]
  },
  {
   "cell_type": "code",
   "execution_count": 143,
   "metadata": {},
   "outputs": [
    {
     "name": "stdout",
     "output_type": "stream",
     "text": [
      "dict_keys(['val_loss', 'val_accuracy', 'loss', 'accuracy'])\n"
     ]
    }
   ],
   "source": [
    "# list all data in history\n",
    "print(CNN.history.keys())"
   ]
  },
  {
   "cell_type": "code",
   "execution_count": 144,
   "metadata": {},
   "outputs": [
    {
     "data": {
      "image/png": "[encoded data removed]",
      "text/plain": [
       "<Figure size 432x288 with 1 Axes>"
      ]
     },
     "metadata": {},
     "output_type": "display_data"
    }
   ],
   "source": [
    "# summarize history for accuracy\n",
    "plt.plot(CNN.history['accuracy'])\n",
    "plt.plot(CNN.history['val_accuracy'])\n",
    "plt.title('model accuracy')\n",
    "plt.ylabel('accuracy')\n",
    "plt.xlabel('epoch')\n",
    "plt.legend(['train', 'test'], loc='upper left')\n",
    "plt.show()"
   ]
  },
  {
   "cell_type": "code",
   "execution_count": 145,
   "metadata": {},
   "outputs": [
    {
     "data": {
      "image/png": "[encoded data removed]",
      "text/plain": [
       "<Figure size 432x288 with 1 Axes>"
      ]
     },
     "metadata": {},
     "output_type": "display_data"
    }
   ],
   "source": [
    "# summarize history for loss\n",
    "plt.plot(CNN.history['loss'])\n",
    "plt.plot(CNN.history['val_loss'])\n",
    "plt.title('model loss')\n",
    "plt.ylabel('loss')\n",
    "plt.xlabel('epoch')\n",
    "plt.legend(['train', 'test'], loc='upper left')\n",
    "plt.show()"
   ]
  },
  {
   "cell_type": "markdown",
   "metadata": {},
   "source": [
    "# Predict test text"
   ]
  },
  {
   "cell_type": "code",
   "execution_count": 146,
   "metadata": {},
   "outputs": [],
   "source": [
    "test_text = test_text.replace(\" \", \"\")"
   ]
  },
  {
   "cell_type": "code",
   "execution_count": 147,
   "metadata": {},
   "outputs": [
    {
     "name": "stdout",
     "output_type": "stream",
     "text": [
      "['ส', '่', 'ง', 'ผ', 'ล', 'ต', '่', 'อ', 'ก', 'า', 'ร', 'พ', 'ั', 'ฒ', 'น', 'า', 'เ', 'ศ', 'ร', 'ษ', 'ฐ', 'ก', 'ิ', 'จ', 'โ', 'ด', 'ย', 'ต', 'ร', 'ง']\n",
      "30\n"
     ]
    }
   ],
   "source": [
    "char_test = split(test_text)\n",
    "print(char_test)\n",
    "print(len(char_test))"
   ]
  },
  {
   "cell_type": "code",
   "execution_count": 148,
   "metadata": {},
   "outputs": [
    {
     "name": "stdout",
     "output_type": "stream",
     "text": [
      "[3626, 3656, 3591, 3612, 3621, 3605, 3656, 3629, 3585, 3634, 3619, 3614, 3633, 3602, 3609, 3634, 3648, 3624, 3619, 3625, 3600, 3585, 3636, 3592, 3650, 3604, 3618, 3605, 3619, 3591]\n"
     ]
    }
   ],
   "source": [
    "sequence_test = []\n",
    "for i in char_test:\n",
    "    sequence_test.append(ord(i))\n",
    "    \n",
    "#test_ = pad_sequences(sequence_test,padding='post', maxlen = maxlen)\n",
    "\n",
    "print(sequence_test)\n",
    "#print(test_.shape)"
   ]
  },
  {
   "cell_type": "code",
   "execution_count": 149,
   "metadata": {},
   "outputs": [],
   "source": [
    "for i in range(maxlen - len(sequence_test)):\n",
    "   sequence_test.append(0)"
   ]
  },
  {
   "cell_type": "code",
   "execution_count": 150,
   "metadata": {},
   "outputs": [],
   "source": [
    "sequence_test = np.array(sequence_test)"
   ]
  },
  {
   "cell_type": "code",
   "execution_count": 151,
   "metadata": {},
   "outputs": [],
   "source": [
    "test_text_cnn = sequence_test.reshape(1,sequence_test.shape[0],1)"
   ]
  },
  {
   "cell_type": "code",
   "execution_count": 152,
   "metadata": {},
   "outputs": [],
   "source": [
    "prob_test_cnn = model_CNN.predict(test_text_cnn)"
   ]
  },
  {
   "cell_type": "code",
   "execution_count": 153,
   "metadata": {},
   "outputs": [
    {
     "data": {
      "text/plain": [
       "(1, 165, 2)"
      ]
     },
     "execution_count": 153,
     "metadata": {},
     "output_type": "execute_result"
    }
   ],
   "source": [
    "prob_test_cnn.shape"
   ]
  },
  {
   "cell_type": "code",
   "execution_count": 154,
   "metadata": {},
   "outputs": [],
   "source": [
    "pred_test_cnn = np.where(prob_test_cnn > prob, 1, 0)"
   ]
  },
  {
   "cell_type": "code",
   "execution_count": 155,
   "metadata": {},
   "outputs": [
    {
     "data": {
      "text/plain": [
       "array([[0, 0, 0, 0, 0, 0, 0, 0, 0, 0, 0, 0, 0, 0, 0, 0, 0, 0, 0, 0, 0, 0,\n",
       "        0, 0, 0, 0, 0, 0, 0, 0, 0, 0, 0, 0, 0, 0, 0, 0, 0, 0, 0, 0, 0, 0,\n",
       "        0, 0, 0, 0, 0, 0, 0, 0, 0, 0, 0, 0, 0, 0, 0, 0, 0, 0, 0, 0, 0, 0,\n",
       "        0, 0, 0, 0, 0, 0, 0, 0, 0, 0, 0, 0, 0, 0, 0, 0, 0, 0, 0, 0, 0, 0,\n",
       "        0, 0, 0, 0, 0, 0, 0, 0, 0, 0, 0, 0, 0, 0, 0, 0, 0, 0, 0, 0, 0, 0,\n",
       "        0, 0, 0, 0, 0, 0, 0, 0, 0, 0, 0, 0, 0, 0, 0, 0, 0, 0, 0, 0, 0, 0,\n",
       "        0, 0, 0, 0, 0, 0, 0, 0, 0, 0, 0, 0, 0, 0, 0, 0, 0, 0, 0, 0, 0, 0,\n",
       "        0, 0, 0, 0, 0, 0, 0, 0, 0, 0, 0]], dtype=int64)"
      ]
     },
     "execution_count": 155,
     "metadata": {},
     "output_type": "execute_result"
    }
   ],
   "source": [
    "pred_test_cnn = np.argmax(pred_test_cnn, axis=-1)\n",
    "pred_test_cnn"
   ]
  },
  {
   "cell_type": "code",
   "execution_count": 156,
   "metadata": {},
   "outputs": [],
   "source": [
    "# pred_test_cnn = np.where(prob_test_cnn > prob, 1, 0)\n",
    "# pred_test_cnn = np.squeeze(pred_test_cnn)"
   ]
  },
  {
   "cell_type": "code",
   "execution_count": 157,
   "metadata": {},
   "outputs": [],
   "source": [
    "pred_test_cnn_list = pred_test_cnn.flatten().tolist()"
   ]
  },
  {
   "cell_type": "code",
   "execution_count": 158,
   "metadata": {},
   "outputs": [
    {
     "data": {
      "text/plain": [
       "(1, 165, 1)"
      ]
     },
     "execution_count": 158,
     "metadata": {},
     "output_type": "execute_result"
    }
   ],
   "source": [
    "test_text_cnn.shape"
   ]
  },
  {
   "cell_type": "code",
   "execution_count": 159,
   "metadata": {},
   "outputs": [],
   "source": [
    "def word_seg(x,y):\n",
    "    cut = []\n",
    "    w = ''\n",
    "    for i in range(len(x)):\n",
    "        print(i,x[i],y[i])\n",
    "        if i>0 and y[i]==1:\n",
    "            cut.append(w)\n",
    "            w = ''\n",
    "            w = w+x[i]\n",
    "        else:\n",
    "            w = w+x[i]\n",
    "    cut.append(w)\n",
    "    print(cut)\n",
    "    return(cut)"
   ]
  },
  {
   "cell_type": "code",
   "execution_count": 160,
   "metadata": {
    "scrolled": true
   },
   "outputs": [
    {
     "name": "stdout",
     "output_type": "stream",
     "text": [
      "0 ส 0\n",
      "1 ่ 0\n",
      "2 ง 0\n",
      "3 ผ 0\n",
      "4 ล 0\n",
      "5 ต 0\n",
      "6 ่ 0\n",
      "7 อ 0\n",
      "8 ก 0\n",
      "9 า 0\n",
      "10 ร 0\n",
      "11 พ 0\n",
      "12 ั 0\n",
      "13 ฒ 0\n",
      "14 น 0\n",
      "15 า 0\n",
      "16 เ 0\n",
      "17 ศ 0\n",
      "18 ร 0\n",
      "19 ษ 0\n",
      "20 ฐ 0\n",
      "21 ก 0\n",
      "22 ิ 0\n",
      "23 จ 0\n",
      "24 โ 0\n",
      "25 ด 0\n",
      "26 ย 0\n",
      "27 ต 0\n",
      "28 ร 0\n",
      "29 ง 0\n",
      "['ส่งผลต่อการพัฒนาเศรษฐกิจโดยตรง']\n"
     ]
    }
   ],
   "source": [
    "test_result = word_seg(char_test,pred_test_cnn_list)"
   ]
  },
  {
   "cell_type": "code",
   "execution_count": 161,
   "metadata": {},
   "outputs": [
    {
     "name": "stdout",
     "output_type": "stream",
     "text": [
      "test_text :  ส่งผลต่อการพัฒนาเศรษฐกิจโดยตรง\n",
      "result_cnn :  ['ส่งผลต่อการพัฒนาเศรษฐกิจโดยตรง']\n"
     ]
    }
   ],
   "source": [
    "print('test_text : ',test_text)\n",
    "print('result_cnn : ',test_result)"
   ]
  },
  {
   "cell_type": "code",
   "execution_count": null,
   "metadata": {},
   "outputs": [],
   "source": []
  }
 ],
 "metadata": {
  "kernelspec": {
   "display_name": "Python 3",
   "language": "python",
   "name": "python3"
  },
  "language_info": {
   "codemirror_mode": {
    "name": "ipython",
    "version": 3
   },
   "file_extension": ".py",
   "mimetype": "text/x-python",
   "name": "python",
   "nbconvert_exporter": "python",
   "pygments_lexer": "ipython3",
   "version": "3.7.3"
  }
 },
 "nbformat": 4,
 "nbformat_minor": 2
}
