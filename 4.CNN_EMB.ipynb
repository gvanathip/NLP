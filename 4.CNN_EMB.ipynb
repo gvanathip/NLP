{
 "cells": [
  {
   "cell_type": "markdown",
   "metadata": {},
   "source": [
    "# CNN+Embed"
   ]
  },
  {
   "cell_type": "markdown",
   "metadata": {},
   "source": [
    "# Adjust Parameters and test text"
   ]
  },
  {
   "cell_type": "markdown",
   "metadata": {},
   "source": [
    "ข้อความที่ทดสอบ ความยาวไม่เกิน 165 ตัวอักษร"
   ]
  },
  {
   "cell_type": "code",
   "execution_count": 353,
   "metadata": {},
   "outputs": [],
   "source": [
    "test_text = \"ส่งผลต่อการพัฒนาเศรษฐกิจโดยตรง\""
   ]
  },
  {
   "cell_type": "code",
   "execution_count": 354,
   "metadata": {},
   "outputs": [],
   "source": [
    "prob = 0.5"
   ]
  },
  {
   "cell_type": "code",
   "execution_count": 355,
   "metadata": {},
   "outputs": [],
   "source": [
    "#model parameter\n",
    "epochs=5\n",
    "batch_size=5"
   ]
  },
  {
   "cell_type": "code",
   "execution_count": 356,
   "metadata": {},
   "outputs": [],
   "source": [
    "#CNN Hyper Parameter\n",
    "recurrent_units=128\n",
    "dropout_rate=0.3\n",
    "recurrent_dropout_rate=0.3\n",
    "dense_size=64\n",
    "kernel_size=10"
   ]
  },
  {
   "cell_type": "code",
   "execution_count": 357,
   "metadata": {},
   "outputs": [],
   "source": [
    "embed_size = 100 #ขนาดของ vector embed ของ char แต่ละตัว"
   ]
  },
  {
   "cell_type": "markdown",
   "metadata": {},
   "source": [
    "# Start"
   ]
  },
  {
   "cell_type": "code",
   "execution_count": 358,
   "metadata": {},
   "outputs": [],
   "source": [
    "import tensorflow as tf"
   ]
  },
  {
   "cell_type": "code",
   "execution_count": 359,
   "metadata": {},
   "outputs": [],
   "source": [
    "import keras"
   ]
  },
  {
   "cell_type": "code",
   "execution_count": 360,
   "metadata": {},
   "outputs": [],
   "source": [
    "import pandas as pd\n",
    "import numpy as np"
   ]
  },
  {
   "cell_type": "code",
   "execution_count": 361,
   "metadata": {},
   "outputs": [],
   "source": [
    "from keras import backend as K\n",
    "from keras.engine.topology import Layer\n",
    "from keras import initializers, regularizers, constraints\n",
    "from keras.models import Model, load_model\n",
    "from keras.layers import Dense, Embedding, Input, concatenate\n",
    "from keras.layers import LSTM, Bidirectional, Dropout, SpatialDropout1D, AveragePooling1D, GlobalAveragePooling1D, TimeDistributed, Masking, Lambda \n",
    "from keras.layers import GRU, MaxPooling1D, Conv1D, GlobalMaxPool1D, Activation, Add, Flatten, BatchNormalization\n",
    "from keras.layers import CuDNNGRU, CuDNNLSTM\n",
    "from keras.layers import Flatten, Dense, Reshape\n",
    "from keras.optimizers import RMSprop, Adam, Nadam\n",
    "from keras.preprocessing import text, sequence\n",
    "from keras.callbacks import EarlyStopping, ModelCheckpoint\n",
    "from keras.utils.np_utils import to_categorical\n",
    "from keras.preprocessing.sequence import pad_sequences"
   ]
  },
  {
   "cell_type": "code",
   "execution_count": 362,
   "metadata": {},
   "outputs": [],
   "source": [
    "from sklearn.metrics import classification_report, confusion_matrix\n",
    "from sklearn import metrics\n",
    "from sklearn.metrics import accuracy_score, precision_score, recall_score, f1_score"
   ]
  },
  {
   "cell_type": "code",
   "execution_count": 363,
   "metadata": {},
   "outputs": [],
   "source": [
    "from keras.utils.np_utils import to_categorical"
   ]
  },
  {
   "cell_type": "code",
   "execution_count": 364,
   "metadata": {},
   "outputs": [],
   "source": [
    "from keras.utils import to_categorical"
   ]
  },
  {
   "cell_type": "markdown",
   "metadata": {},
   "source": [
    "# Import Cleaned Data"
   ]
  },
  {
   "cell_type": "code",
   "execution_count": 365,
   "metadata": {},
   "outputs": [],
   "source": [
    "df = pd.read_csv(\"dataset_orchid_clean.csv\")"
   ]
  },
  {
   "cell_type": "code",
   "execution_count": 366,
   "metadata": {},
   "outputs": [
    {
     "data": {
      "text/html": [
       "<div>\n",
       "<style scoped>\n",
       "    .dataframe tbody tr th:only-of-type {\n",
       "        vertical-align: middle;\n",
       "    }\n",
       "\n",
       "    .dataframe tbody tr th {\n",
       "        vertical-align: top;\n",
       "    }\n",
       "\n",
       "    .dataframe thead th {\n",
       "        text-align: right;\n",
       "    }\n",
       "</style>\n",
       "<table border=\"1\" class=\"dataframe\">\n",
       "  <thead>\n",
       "    <tr style=\"text-align: right;\">\n",
       "      <th></th>\n",
       "      <th>Unnamed: 0</th>\n",
       "      <th>sentence(x)</th>\n",
       "      <th>words</th>\n",
       "      <th>word_with_special_char(y)</th>\n",
       "      <th>sentence_without_space(x_clean)</th>\n",
       "      <th>binary(y)</th>\n",
       "      <th>sentence_len</th>\n",
       "      <th>binary_len</th>\n",
       "    </tr>\n",
       "  </thead>\n",
       "  <tbody>\n",
       "    <tr>\n",
       "      <th>0</th>\n",
       "      <td>0</td>\n",
       "      <td>การประชุมทางวิชาการ ครั้งที่ 1</td>\n",
       "      <td>['การ', 'ประชุม', 'ทาง', 'วิชาการ', 'ครั้ง', '...</td>\n",
       "      <td>['การ', 'ประชุม', 'ทาง', 'วิชาการ', 'ครั้ง', '...</td>\n",
       "      <td>การประชุมทางวิชาการ ครั้งที่ 1</td>\n",
       "      <td>1001000001001000000100001000</td>\n",
       "      <td>28</td>\n",
       "      <td>28</td>\n",
       "    </tr>\n",
       "    <tr>\n",
       "      <th>1</th>\n",
       "      <td>1</td>\n",
       "      <td>โครงการวิจัยและพัฒนาอิเล็กทรอนิกส์และคอมพิวเตอร์</td>\n",
       "      <td>['โครงการวิจัย', 'และ', 'พัฒนา', 'อิเล็กทรอนิก...</td>\n",
       "      <td>['โครงการวิจัย', 'และ', 'พัฒนา', 'อิเล็กทรอนิก...</td>\n",
       "      <td>โครงการวิจัยและพัฒนาอิเล็กทรอนิกส์และคอมพิวเตอร์</td>\n",
       "      <td>100000000000100100001000000000000010010000000000</td>\n",
       "      <td>48</td>\n",
       "      <td>48</td>\n",
       "    </tr>\n",
       "    <tr>\n",
       "      <th>2</th>\n",
       "      <td>2</td>\n",
       "      <td>ปีงบประมาณ 2531</td>\n",
       "      <td>['ปีงบประมาณ', '2531']</td>\n",
       "      <td>['ปีงบประมาณ', '2531']</td>\n",
       "      <td>ปีงบประมาณ 2531</td>\n",
       "      <td>10000000001000</td>\n",
       "      <td>14</td>\n",
       "      <td>14</td>\n",
       "    </tr>\n",
       "    <tr>\n",
       "      <th>3</th>\n",
       "      <td>3</td>\n",
       "      <td>เล่ม 1</td>\n",
       "      <td>['เล่ม', '1']</td>\n",
       "      <td>['เล่ม', '1']</td>\n",
       "      <td>เล่ม 1</td>\n",
       "      <td>10001</td>\n",
       "      <td>5</td>\n",
       "      <td>5</td>\n",
       "    </tr>\n",
       "    <tr>\n",
       "      <th>4</th>\n",
       "      <td>4</td>\n",
       "      <td>ศูนย์เทคโนโลยีอิเล็กทรอนิกส์และคอมพิวเตอร์แห่ง...</td>\n",
       "      <td>['ศูนย์เทคโนโลยีอิเล็กทรอนิกส์และคอมพิวเตอร์แห...</td>\n",
       "      <td>['ศูนย์เทคโนโลยีอิเล็กทรอนิกส์และคอมพิวเตอร์แห...</td>\n",
       "      <td>ศูนย์เทคโนโลยีอิเล็กทรอนิกส์และคอมพิวเตอร์แห่ง...</td>\n",
       "      <td>1000000000000000000000000000000000000000000000...</td>\n",
       "      <td>50</td>\n",
       "      <td>50</td>\n",
       "    </tr>\n",
       "    <tr>\n",
       "      <th>5</th>\n",
       "      <td>5</td>\n",
       "      <td>กระทรวงวิทยาศาสตร์ เทคโนโลยีและการพลังงาน</td>\n",
       "      <td>['กระทรวงวิทยาศาสตร์ เทคโนโลยีและการพลังงาน']</td>\n",
       "      <td>['กระทรวงวิทยาศาสตร์เทคโนโลยีและการพลังงาน']</td>\n",
       "      <td>กระทรวงวิทยาศาสตร์ เทคโนโลยีและการพลังงาน</td>\n",
       "      <td>1000000000000000000000000000000000000000</td>\n",
       "      <td>40</td>\n",
       "      <td>40</td>\n",
       "    </tr>\n",
       "    <tr>\n",
       "      <th>6</th>\n",
       "      <td>6</td>\n",
       "      <td>วันที่ 15-16 สิงหาคม 2532</td>\n",
       "      <td>['วัน', 'ที่ 15', '&lt;minus&gt;', '16', 'สิงหาคม', ...</td>\n",
       "      <td>['วัน', 'ที่15', '-', '16', 'สิงหาคม', '2532']</td>\n",
       "      <td>วันที่ 15-16 สิงหาคม 2532</td>\n",
       "      <td>1001000011010000001000</td>\n",
       "      <td>22</td>\n",
       "      <td>22</td>\n",
       "    </tr>\n",
       "    <tr>\n",
       "      <th>7</th>\n",
       "      <td>7</td>\n",
       "      <td>ห้องประชุม ชั้น 4</td>\n",
       "      <td>['ห้องประชุม', 'ชั้น', '4']</td>\n",
       "      <td>['ห้องประชุม', 'ชั้น', '4']</td>\n",
       "      <td>ห้องประชุม ชั้น 4</td>\n",
       "      <td>100000000010001</td>\n",
       "      <td>15</td>\n",
       "      <td>15</td>\n",
       "    </tr>\n",
       "    <tr>\n",
       "      <th>8</th>\n",
       "      <td>8</td>\n",
       "      <td>สาร</td>\n",
       "      <td>['สาร']</td>\n",
       "      <td>['สาร']</td>\n",
       "      <td>สาร</td>\n",
       "      <td>100</td>\n",
       "      <td>3</td>\n",
       "      <td>3</td>\n",
       "    </tr>\n",
       "    <tr>\n",
       "      <th>9</th>\n",
       "      <td>9</td>\n",
       "      <td>ฯพณฯ รัฐมนตรีว่าการกระทรวงวิทยาศาสตร์ เทคโนโลย...</td>\n",
       "      <td>['ฯพณฯ', 'รัฐมนตรีว่าการ', 'กระทรวงวิทยาศาสตร์...</td>\n",
       "      <td>['ฯพณฯ', 'รัฐมนตรีว่าการ', 'กระทรวงวิทยาศาสตร์...</td>\n",
       "      <td>ฯพณฯ รัฐมนตรีว่าการกระทรวงวิทยาศาสตร์ เทคโนโลย...</td>\n",
       "      <td>1000100000000000001000000000000000000000000000...</td>\n",
       "      <td>58</td>\n",
       "      <td>58</td>\n",
       "    </tr>\n",
       "  </tbody>\n",
       "</table>\n",
       "</div>"
      ],
      "text/plain": [
       "   Unnamed: 0                                        sentence(x)  \\\n",
       "0           0                     การประชุมทางวิชาการ ครั้งที่ 1   \n",
       "1           1   โครงการวิจัยและพัฒนาอิเล็กทรอนิกส์และคอมพิวเตอร์   \n",
       "2           2                                    ปีงบประมาณ 2531   \n",
       "3           3                                             เล่ม 1   \n",
       "4           4  ศูนย์เทคโนโลยีอิเล็กทรอนิกส์และคอมพิวเตอร์แห่ง...   \n",
       "5           5          กระทรวงวิทยาศาสตร์ เทคโนโลยีและการพลังงาน   \n",
       "6           6                          วันที่ 15-16 สิงหาคม 2532   \n",
       "7           7                                  ห้องประชุม ชั้น 4   \n",
       "8           8                                                สาร   \n",
       "9           9  ฯพณฯ รัฐมนตรีว่าการกระทรวงวิทยาศาสตร์ เทคโนโลย...   \n",
       "\n",
       "                                               words  \\\n",
       "0  ['การ', 'ประชุม', 'ทาง', 'วิชาการ', 'ครั้ง', '...   \n",
       "1  ['โครงการวิจัย', 'และ', 'พัฒนา', 'อิเล็กทรอนิก...   \n",
       "2                             ['ปีงบประมาณ', '2531']   \n",
       "3                                      ['เล่ม', '1']   \n",
       "4  ['ศูนย์เทคโนโลยีอิเล็กทรอนิกส์และคอมพิวเตอร์แห...   \n",
       "5      ['กระทรวงวิทยาศาสตร์ เทคโนโลยีและการพลังงาน']   \n",
       "6  ['วัน', 'ที่ 15', '<minus>', '16', 'สิงหาคม', ...   \n",
       "7                        ['ห้องประชุม', 'ชั้น', '4']   \n",
       "8                                            ['สาร']   \n",
       "9  ['ฯพณฯ', 'รัฐมนตรีว่าการ', 'กระทรวงวิทยาศาสตร์...   \n",
       "\n",
       "                           word_with_special_char(y)  \\\n",
       "0  ['การ', 'ประชุม', 'ทาง', 'วิชาการ', 'ครั้ง', '...   \n",
       "1  ['โครงการวิจัย', 'และ', 'พัฒนา', 'อิเล็กทรอนิก...   \n",
       "2                             ['ปีงบประมาณ', '2531']   \n",
       "3                                      ['เล่ม', '1']   \n",
       "4  ['ศูนย์เทคโนโลยีอิเล็กทรอนิกส์และคอมพิวเตอร์แห...   \n",
       "5       ['กระทรวงวิทยาศาสตร์เทคโนโลยีและการพลังงาน']   \n",
       "6     ['วัน', 'ที่15', '-', '16', 'สิงหาคม', '2532']   \n",
       "7                        ['ห้องประชุม', 'ชั้น', '4']   \n",
       "8                                            ['สาร']   \n",
       "9  ['ฯพณฯ', 'รัฐมนตรีว่าการ', 'กระทรวงวิทยาศาสตร์...   \n",
       "\n",
       "                     sentence_without_space(x_clean)  \\\n",
       "0                     การประชุมทางวิชาการ ครั้งที่ 1   \n",
       "1   โครงการวิจัยและพัฒนาอิเล็กทรอนิกส์และคอมพิวเตอร์   \n",
       "2                                    ปีงบประมาณ 2531   \n",
       "3                                             เล่ม 1   \n",
       "4  ศูนย์เทคโนโลยีอิเล็กทรอนิกส์และคอมพิวเตอร์แห่ง...   \n",
       "5          กระทรวงวิทยาศาสตร์ เทคโนโลยีและการพลังงาน   \n",
       "6                          วันที่ 15-16 สิงหาคม 2532   \n",
       "7                                  ห้องประชุม ชั้น 4   \n",
       "8                                                สาร   \n",
       "9  ฯพณฯ รัฐมนตรีว่าการกระทรวงวิทยาศาสตร์ เทคโนโลย...   \n",
       "\n",
       "                                           binary(y)  sentence_len  binary_len  \n",
       "0                       1001000001001000000100001000            28          28  \n",
       "1   100000000000100100001000000000000010010000000000            48          48  \n",
       "2                                     10000000001000            14          14  \n",
       "3                                              10001             5           5  \n",
       "4  1000000000000000000000000000000000000000000000...            50          50  \n",
       "5           1000000000000000000000000000000000000000            40          40  \n",
       "6                             1001000011010000001000            22          22  \n",
       "7                                    100000000010001            15          15  \n",
       "8                                                100             3           3  \n",
       "9  1000100000000000001000000000000000000000000000...            58          58  "
      ]
     },
     "execution_count": 366,
     "metadata": {},
     "output_type": "execute_result"
    }
   ],
   "source": [
    "df.head(10)"
   ]
  },
  {
   "cell_type": "markdown",
   "metadata": {},
   "source": [
    "# Split String to List of Chars"
   ]
  },
  {
   "cell_type": "code",
   "execution_count": 367,
   "metadata": {},
   "outputs": [],
   "source": [
    "def split(word): \n",
    "    return [char for char in word]  "
   ]
  },
  {
   "cell_type": "code",
   "execution_count": 368,
   "metadata": {},
   "outputs": [],
   "source": [
    "df['char(x)'] = df['sentence_without_space(x_clean)'].apply(split)\n",
    "df['bit(y)'] = df['binary(y)'].apply(split)"
   ]
  },
  {
   "cell_type": "code",
   "execution_count": 369,
   "metadata": {},
   "outputs": [],
   "source": [
    "df['len_x'] = df['char(x)'].apply(len)\n",
    "df['len_y'] = df['bit(y)'].apply(len)"
   ]
  },
  {
   "cell_type": "code",
   "execution_count": 370,
   "metadata": {},
   "outputs": [],
   "source": [
    "df = df[df['len_x']==df['len_y']]"
   ]
  },
  {
   "cell_type": "code",
   "execution_count": 371,
   "metadata": {},
   "outputs": [],
   "source": [
    "char_x = df[['char(x)']]\n",
    "bit_y = df[['bit(y)']]"
   ]
  },
  {
   "cell_type": "code",
   "execution_count": 372,
   "metadata": {},
   "outputs": [
    {
     "data": {
      "text/html": [
       "<div>\n",
       "<style scoped>\n",
       "    .dataframe tbody tr th:only-of-type {\n",
       "        vertical-align: middle;\n",
       "    }\n",
       "\n",
       "    .dataframe tbody tr th {\n",
       "        vertical-align: top;\n",
       "    }\n",
       "\n",
       "    .dataframe thead th {\n",
       "        text-align: right;\n",
       "    }\n",
       "</style>\n",
       "<table border=\"1\" class=\"dataframe\">\n",
       "  <thead>\n",
       "    <tr style=\"text-align: right;\">\n",
       "      <th></th>\n",
       "      <th>char(x)</th>\n",
       "    </tr>\n",
       "  </thead>\n",
       "  <tbody>\n",
       "    <tr>\n",
       "      <th>1</th>\n",
       "      <td>[โ, ค, ร, ง, ก, า, ร, ว, ิ, จ, ั, ย, แ, ล, ะ, ...</td>\n",
       "    </tr>\n",
       "    <tr>\n",
       "      <th>4</th>\n",
       "      <td>[ศ, ู, น, ย, ์, เ, ท, ค, โ, น, โ, ล, ย, ี, อ, ...</td>\n",
       "    </tr>\n",
       "    <tr>\n",
       "      <th>8</th>\n",
       "      <td>[ส, า, ร]</td>\n",
       "    </tr>\n",
       "    <tr>\n",
       "      <th>13</th>\n",
       "      <td>[ซ, ึ, ่, ง, อ, ุ, ต, ส, า, ห, ก, ร, ร, ม, น, ...</td>\n",
       "    </tr>\n",
       "    <tr>\n",
       "      <th>17</th>\n",
       "      <td>[โ, ด, ย, ก, า, ร, ส, น, ั, บ, ส, น, ุ, น, ใ, ...</td>\n",
       "    </tr>\n",
       "  </tbody>\n",
       "</table>\n",
       "</div>"
      ],
      "text/plain": [
       "                                              char(x)\n",
       "1   [โ, ค, ร, ง, ก, า, ร, ว, ิ, จ, ั, ย, แ, ล, ะ, ...\n",
       "4   [ศ, ู, น, ย, ์, เ, ท, ค, โ, น, โ, ล, ย, ี, อ, ...\n",
       "8                                           [ส, า, ร]\n",
       "13  [ซ, ึ, ่, ง, อ, ุ, ต, ส, า, ห, ก, ร, ร, ม, น, ...\n",
       "17  [โ, ด, ย, ก, า, ร, ส, น, ั, บ, ส, น, ุ, น, ใ, ..."
      ]
     },
     "execution_count": 372,
     "metadata": {},
     "output_type": "execute_result"
    }
   ],
   "source": [
    "char_x.head()"
   ]
  },
  {
   "cell_type": "code",
   "execution_count": 373,
   "metadata": {},
   "outputs": [
    {
     "data": {
      "text/html": [
       "<div>\n",
       "<style scoped>\n",
       "    .dataframe tbody tr th:only-of-type {\n",
       "        vertical-align: middle;\n",
       "    }\n",
       "\n",
       "    .dataframe tbody tr th {\n",
       "        vertical-align: top;\n",
       "    }\n",
       "\n",
       "    .dataframe thead th {\n",
       "        text-align: right;\n",
       "    }\n",
       "</style>\n",
       "<table border=\"1\" class=\"dataframe\">\n",
       "  <thead>\n",
       "    <tr style=\"text-align: right;\">\n",
       "      <th></th>\n",
       "      <th>bit(y)</th>\n",
       "    </tr>\n",
       "  </thead>\n",
       "  <tbody>\n",
       "    <tr>\n",
       "      <th>1</th>\n",
       "      <td>[1, 0, 0, 0, 0, 0, 0, 0, 0, 0, 0, 0, 1, 0, 0, ...</td>\n",
       "    </tr>\n",
       "    <tr>\n",
       "      <th>4</th>\n",
       "      <td>[1, 0, 0, 0, 0, 0, 0, 0, 0, 0, 0, 0, 0, 0, 0, ...</td>\n",
       "    </tr>\n",
       "    <tr>\n",
       "      <th>8</th>\n",
       "      <td>[1, 0, 0]</td>\n",
       "    </tr>\n",
       "    <tr>\n",
       "      <th>13</th>\n",
       "      <td>[1, 0, 0, 0, 1, 0, 0, 0, 0, 0, 0, 0, 0, 0, 1, ...</td>\n",
       "    </tr>\n",
       "    <tr>\n",
       "      <th>17</th>\n",
       "      <td>[1, 0, 0, 1, 0, 0, 1, 0, 0, 0, 0, 0, 0, 0, 1, ...</td>\n",
       "    </tr>\n",
       "  </tbody>\n",
       "</table>\n",
       "</div>"
      ],
      "text/plain": [
       "                                               bit(y)\n",
       "1   [1, 0, 0, 0, 0, 0, 0, 0, 0, 0, 0, 0, 1, 0, 0, ...\n",
       "4   [1, 0, 0, 0, 0, 0, 0, 0, 0, 0, 0, 0, 0, 0, 0, ...\n",
       "8                                           [1, 0, 0]\n",
       "13  [1, 0, 0, 0, 1, 0, 0, 0, 0, 0, 0, 0, 0, 0, 1, ...\n",
       "17  [1, 0, 0, 1, 0, 0, 1, 0, 0, 0, 0, 0, 0, 0, 1, ..."
      ]
     },
     "execution_count": 373,
     "metadata": {},
     "output_type": "execute_result"
    }
   ],
   "source": [
    "bit_y.head()"
   ]
  },
  {
   "cell_type": "markdown",
   "metadata": {},
   "source": [
    "# Convert Chars (x) to Numbers (order) then Padding"
   ]
  },
  {
   "cell_type": "code",
   "execution_count": 374,
   "metadata": {},
   "outputs": [],
   "source": [
    "sequence_x = []\n",
    "for i in char_x['char(x)']:\n",
    "    conv = []\n",
    "    for j in i:\n",
    "        conv.append(ord(j))\n",
    "    sequence_x.append(conv)"
   ]
  },
  {
   "cell_type": "code",
   "execution_count": 375,
   "metadata": {},
   "outputs": [],
   "source": [
    "x = pad_sequences(sequence_x,padding='post')"
   ]
  },
  {
   "cell_type": "code",
   "execution_count": 376,
   "metadata": {},
   "outputs": [
    {
     "data": {
      "text/plain": [
       "array([[3650, 3588, 3619, ...,    0,    0,    0],\n",
       "       [3624, 3641, 3609, ...,    0,    0,    0],\n",
       "       [3626, 3634, 3619, ...,    0,    0,    0],\n",
       "       ...,\n",
       "       [3649, 3621, 3632, ...,    0,    0,    0],\n",
       "       [3607, 3635, 3651, ...,    0,    0,    0],\n",
       "       [3592, 3632, 3617, ...,    0,    0,    0]])"
      ]
     },
     "execution_count": 376,
     "metadata": {},
     "output_type": "execute_result"
    }
   ],
   "source": [
    "x"
   ]
  },
  {
   "cell_type": "code",
   "execution_count": 377,
   "metadata": {},
   "outputs": [
    {
     "data": {
      "text/plain": [
       "(4942, 165)"
      ]
     },
     "execution_count": 377,
     "metadata": {},
     "output_type": "execute_result"
    }
   ],
   "source": [
    "x.shape"
   ]
  },
  {
   "cell_type": "markdown",
   "metadata": {},
   "source": [
    "# Padding Binary (y)"
   ]
  },
  {
   "cell_type": "code",
   "execution_count": 378,
   "metadata": {},
   "outputs": [],
   "source": [
    "sequence_y = []\n",
    "for i in bit_y['bit(y)']:\n",
    "    conc = []\n",
    "    for j in i:\n",
    "        conc.append(j)\n",
    "    sequence_y.append(conc)"
   ]
  },
  {
   "cell_type": "code",
   "execution_count": 379,
   "metadata": {},
   "outputs": [],
   "source": [
    "y = pad_sequences(sequence_y,padding='post')"
   ]
  },
  {
   "cell_type": "code",
   "execution_count": 380,
   "metadata": {},
   "outputs": [
    {
     "data": {
      "text/plain": [
       "array([[1, 0, 0, ..., 0, 0, 0],\n",
       "       [1, 0, 0, ..., 0, 0, 0],\n",
       "       [1, 0, 0, ..., 0, 0, 0],\n",
       "       ...,\n",
       "       [1, 0, 0, ..., 0, 0, 0],\n",
       "       [1, 0, 0, ..., 0, 0, 0],\n",
       "       [1, 0, 1, ..., 0, 0, 0]])"
      ]
     },
     "execution_count": 380,
     "metadata": {},
     "output_type": "execute_result"
    }
   ],
   "source": [
    "y"
   ]
  },
  {
   "cell_type": "code",
   "execution_count": 381,
   "metadata": {},
   "outputs": [
    {
     "data": {
      "text/plain": [
       "(4942, 165)"
      ]
     },
     "execution_count": 381,
     "metadata": {},
     "output_type": "execute_result"
    }
   ],
   "source": [
    "y.shape"
   ]
  },
  {
   "cell_type": "markdown",
   "metadata": {},
   "source": [
    "# Split Data to Train/Test"
   ]
  },
  {
   "cell_type": "code",
   "execution_count": 382,
   "metadata": {},
   "outputs": [],
   "source": [
    "from sklearn.model_selection import train_test_split"
   ]
  },
  {
   "cell_type": "code",
   "execution_count": 383,
   "metadata": {},
   "outputs": [],
   "source": [
    "x_train, x_test, y_train, y_test = train_test_split(x, y, test_size=0.25, random_state=1000)"
   ]
  },
  {
   "cell_type": "code",
   "execution_count": 384,
   "metadata": {},
   "outputs": [
    {
     "data": {
      "text/plain": [
       "array([[3648, 3614, 3639, ...,    0,    0,    0],\n",
       "       [3649, 3621, 3632, ...,    0,    0,    0],\n",
       "       [3648, 3614, 3639, ...,    0,    0,    0],\n",
       "       ...,\n",
       "       [3650, 3604, 3618, ...,    0,    0,    0],\n",
       "       [3648, 3611, 3655, ...,    0,    0,    0],\n",
       "       [3588, 3621, 3639, ...,    0,    0,    0]])"
      ]
     },
     "execution_count": 384,
     "metadata": {},
     "output_type": "execute_result"
    }
   ],
   "source": [
    "x_train"
   ]
  },
  {
   "cell_type": "code",
   "execution_count": 385,
   "metadata": {},
   "outputs": [
    {
     "data": {
      "text/plain": [
       "array([[1, 0, 0, ..., 0, 0, 0],\n",
       "       [1, 0, 0, ..., 0, 0, 0],\n",
       "       [1, 0, 0, ..., 0, 0, 0],\n",
       "       ...,\n",
       "       [1, 0, 0, ..., 0, 0, 0],\n",
       "       [1, 0, 0, ..., 0, 0, 0],\n",
       "       [1, 0, 0, ..., 0, 0, 0]])"
      ]
     },
     "execution_count": 385,
     "metadata": {},
     "output_type": "execute_result"
    }
   ],
   "source": [
    "y_train"
   ]
  },
  {
   "cell_type": "code",
   "execution_count": 386,
   "metadata": {},
   "outputs": [
    {
     "name": "stdout",
     "output_type": "stream",
     "text": [
      "shape\n",
      "x_train :  (3706, 165) y_train :  (3706, 165)\n",
      "x_test :  (1236, 165) y_test :  (1236, 165)\n"
     ]
    }
   ],
   "source": [
    "print(\"shape\")\n",
    "print(\"x_train : \",x_train.shape,\"y_train : \",y_train.shape)\n",
    "print(\"x_test : \",x_test.shape,\"y_test : \",y_test.shape)"
   ]
  },
  {
   "cell_type": "code",
   "execution_count": 387,
   "metadata": {},
   "outputs": [
    {
     "data": {
      "text/plain": [
       "89"
      ]
     },
     "execution_count": 387,
     "metadata": {},
     "output_type": "execute_result"
    }
   ],
   "source": [
    "#find distinct char to set max feature of embed\n",
    "distinct_char = []\n",
    "for i in char_x['char(x)']:\n",
    "    conc = []\n",
    "    for j in i:\n",
    "        conc.append(j)\n",
    "    distinct_char.append(conc)\n",
    "\n",
    "distinct_list = []\n",
    "for i in distinct_char:\n",
    "    for j in i:\n",
    "        distinct_list.append(j)\n",
    "distinct_set = set(distinct_list)\n",
    "\n",
    "len(distinct_set)"
   ]
  },
  {
   "cell_type": "markdown",
   "metadata": {},
   "source": [
    "# Train CNN+Embed"
   ]
  },
  {
   "cell_type": "code",
   "execution_count": 388,
   "metadata": {},
   "outputs": [],
   "source": [
    "#CNN Hyper Parameter\n",
    "maxlen=165 \n",
    "nb_classes=2\n",
    "max_features = len(distinct_set)"
   ]
  },
  {
   "cell_type": "code",
   "execution_count": 389,
   "metadata": {},
   "outputs": [],
   "source": [
    "def cnn_emb(maxlen, embed_size, recurrent_units, dropout_rate, recurrent_dropout_rate, dense_size, nb_classes):\n",
    "    inp = Input(shape=(maxlen, ))\n",
    "    input_layer = Input(shape=(maxlen, 1), )\n",
    "    x = Embedding(max_features, embed_size, trainable=False)(inp)\n",
    "    x = Dropout(dropout_rate)(input_layer) \n",
    "    x = Conv1D(filters=recurrent_units, kernel_size=kernel_size, padding='same', activation='relu')(x)\n",
    "#    x = MaxPooling1D(pool_size=2)(x)\n",
    "#    x = Conv1D(filters=recurrent_units, kernel_size=2, padding='same', activation='relu')(x)\n",
    "#    x = MaxPooling1D(pool_size=2)(x)\n",
    "#    x = Conv1D(filters=recurrent_units, kernel_size=2, padding='same', activation='relu')(x)\n",
    "#    x = MaxPooling1D(pool_size=2)(x)\n",
    "#    x = GRU(recurrent_units)(x)\n",
    "#    x = Dropout(dropout_rate)(x)\n",
    "    x = Dense(dense_size, activation=\"relu\")(x)\n",
    "    x = Dense(nb_classes, activation=\"sigmoid\")(x)\n",
    "    model = Model(inputs=input_layer, outputs=x)\n",
    "    model.summary()  \n",
    "    model.compile(loss='binary_crossentropy', optimizer='adam', metrics=['accuracy'])\n",
    "    return model "
   ]
  },
  {
   "cell_type": "code",
   "execution_count": 390,
   "metadata": {},
   "outputs": [
    {
     "name": "stdout",
     "output_type": "stream",
     "text": [
      "Model: \"model_10\"\n",
      "_________________________________________________________________\n",
      "Layer (type)                 Output Shape              Param #   \n",
      "=================================================================\n",
      "input_22 (InputLayer)        (None, 165, 1)            0         \n",
      "_________________________________________________________________\n",
      "dropout_10 (Dropout)         (None, 165, 1)            0         \n",
      "_________________________________________________________________\n",
      "conv1d_10 (Conv1D)           (None, 165, 128)          1408      \n",
      "_________________________________________________________________\n",
      "dense_19 (Dense)             (None, 165, 64)           8256      \n",
      "_________________________________________________________________\n",
      "dense_20 (Dense)             (None, 165, 2)            130       \n",
      "=================================================================\n",
      "Total params: 9,794\n",
      "Trainable params: 9,794\n",
      "Non-trainable params: 0\n",
      "_________________________________________________________________\n"
     ]
    }
   ],
   "source": [
    "model_cnn_emb = cnn_emb(maxlen=maxlen,embed_size=embed_size,recurrent_units=recurrent_units,dropout_rate=dropout_rate,recurrent_dropout_rate=recurrent_dropout_rate, dense_size=dense_size,nb_classes=nb_classes)"
   ]
  },
  {
   "cell_type": "markdown",
   "metadata": {},
   "source": [
    "# Reshape to array to fit model"
   ]
  },
  {
   "cell_type": "code",
   "execution_count": 391,
   "metadata": {},
   "outputs": [],
   "source": [
    "from keras.utils import to_categorical\n",
    "y_train_cnn = to_categorical(y_train)\n",
    "y_test_cnn = to_categorical(y_test)"
   ]
  },
  {
   "cell_type": "code",
   "execution_count": 392,
   "metadata": {},
   "outputs": [],
   "source": [
    "# y_train_cnn = y_train.reshape(y_train.shape[0],y_train.shape[1],1)\n",
    "# y_test_cnn = y_test.reshape(y_test.shape[0],y_test.shape[1],1)"
   ]
  },
  {
   "cell_type": "code",
   "execution_count": 393,
   "metadata": {},
   "outputs": [],
   "source": [
    "x_train_cnn = x_train.reshape(x_train.shape[0],x_train.shape[1],1)\n",
    "x_test_cnn = x_test.reshape(x_test.shape[0],x_test.shape[1],1)"
   ]
  },
  {
   "cell_type": "code",
   "execution_count": 394,
   "metadata": {},
   "outputs": [
    {
     "name": "stdout",
     "output_type": "stream",
     "text": [
      "shape\n",
      "x_train_cnn :  (3706, 165, 1) y_train_cnn :  (3706, 165, 2)\n",
      "x_test_cnn :  (1236, 165, 1) y_test_cnn :  (1236, 165, 2)\n"
     ]
    }
   ],
   "source": [
    "print(\"shape\")\n",
    "print(\"x_train_cnn : \",x_train_cnn.shape,\"y_train_cnn : \",y_train_cnn.shape)\n",
    "print(\"x_test_cnn : \",x_test_cnn.shape,\"y_test_cnn : \",y_test_cnn.shape)"
   ]
  },
  {
   "cell_type": "markdown",
   "metadata": {},
   "source": [
    "# Fit model CNN"
   ]
  },
  {
   "cell_type": "code",
   "execution_count": 395,
   "metadata": {},
   "outputs": [],
   "source": [
    "CNN = model_cnn_emb.fit(x_train_cnn, y_train_cnn,\n",
    "                    epochs=epochs,\n",
    "                    verbose=False,\n",
    "                    validation_data=(x_test_cnn, y_test_cnn),\n",
    "                    batch_size=batch_size)"
   ]
  },
  {
   "cell_type": "code",
   "execution_count": 396,
   "metadata": {},
   "outputs": [
    {
     "name": "stdout",
     "output_type": "stream",
     "text": [
      "Training Accuracy: 0.9460\n",
      "Testing Accuracy:  0.9457\n"
     ]
    }
   ],
   "source": [
    "loss, accuracy = model_cnn_emb.evaluate(x_train_cnn, y_train_cnn, verbose=False)\n",
    "print(\"Training Accuracy: {:.4f}\".format(accuracy))\n",
    "loss, accuracy = model_cnn_emb.evaluate(x_test_cnn, y_test_cnn, verbose=False)\n",
    "print(\"Testing Accuracy:  {:.4f}\".format(accuracy))"
   ]
  },
  {
   "cell_type": "code",
   "execution_count": 397,
   "metadata": {},
   "outputs": [],
   "source": [
    "y_prob_cnn = model_cnn_emb.predict(x_test_cnn)"
   ]
  },
  {
   "cell_type": "code",
   "execution_count": 398,
   "metadata": {},
   "outputs": [],
   "source": [
    "y_pred_cnn = np.where(y_prob_cnn > prob, 1, 0)"
   ]
  },
  {
   "cell_type": "code",
   "execution_count": 399,
   "metadata": {},
   "outputs": [
    {
     "data": {
      "text/plain": [
       "(1236, 165, 2)"
      ]
     },
     "execution_count": 399,
     "metadata": {},
     "output_type": "execute_result"
    }
   ],
   "source": [
    "y_prob_cnn.shape"
   ]
  },
  {
   "cell_type": "code",
   "execution_count": 400,
   "metadata": {},
   "outputs": [],
   "source": [
    "y_pred_cnn = np.argmax(y_pred_cnn, axis=-1)"
   ]
  },
  {
   "cell_type": "code",
   "execution_count": 401,
   "metadata": {},
   "outputs": [
    {
     "data": {
      "text/plain": [
       "(1236, 165)"
      ]
     },
     "execution_count": 401,
     "metadata": {},
     "output_type": "execute_result"
    }
   ],
   "source": [
    "y_pred_cnn.shape"
   ]
  },
  {
   "cell_type": "code",
   "execution_count": 402,
   "metadata": {},
   "outputs": [],
   "source": [
    "# y_prob_cnn_list = np.squeeze(y_prob_cnn).flatten().tolist()"
   ]
  },
  {
   "cell_type": "code",
   "execution_count": 403,
   "metadata": {},
   "outputs": [],
   "source": [
    "# len(y_prob_cnn_list)"
   ]
  },
  {
   "cell_type": "code",
   "execution_count": 404,
   "metadata": {},
   "outputs": [],
   "source": [
    "# y_pred_cnn = np.where(y_prob_cnn > prob, 1, 0)\n",
    "# y_pred_cnn = np.squeeze(y_pred_cnn)"
   ]
  },
  {
   "cell_type": "code",
   "execution_count": 405,
   "metadata": {},
   "outputs": [
    {
     "data": {
      "text/plain": [
       "array([[1, 0, 0, ..., 0, 0, 0],\n",
       "       [1, 0, 0, ..., 0, 0, 0],\n",
       "       [1, 0, 0, ..., 0, 0, 0],\n",
       "       ...,\n",
       "       [1, 0, 0, ..., 0, 0, 0],\n",
       "       [1, 0, 0, ..., 0, 0, 0],\n",
       "       [1, 0, 0, ..., 0, 0, 0]])"
      ]
     },
     "execution_count": 405,
     "metadata": {},
     "output_type": "execute_result"
    }
   ],
   "source": [
    "y_test"
   ]
  },
  {
   "cell_type": "code",
   "execution_count": 406,
   "metadata": {},
   "outputs": [
    {
     "data": {
      "text/plain": [
       "array([[0, 0, 0, ..., 0, 0, 0],\n",
       "       [1, 0, 0, ..., 0, 0, 0],\n",
       "       [0, 0, 0, ..., 0, 0, 0],\n",
       "       ...,\n",
       "       [0, 0, 0, ..., 0, 0, 0],\n",
       "       [1, 0, 0, ..., 0, 0, 0],\n",
       "       [0, 0, 0, ..., 0, 0, 0]], dtype=int64)"
      ]
     },
     "execution_count": 406,
     "metadata": {},
     "output_type": "execute_result"
    }
   ],
   "source": [
    "y_pred_cnn"
   ]
  },
  {
   "cell_type": "code",
   "execution_count": 407,
   "metadata": {},
   "outputs": [],
   "source": [
    "y_test_list = y_test.flatten().tolist()\n",
    "y_pred_cnn_list = y_pred_cnn.flatten().tolist()"
   ]
  },
  {
   "cell_type": "code",
   "execution_count": 408,
   "metadata": {},
   "outputs": [],
   "source": [
    "matrix_cnn = confusion_matrix(y_test_list, y_pred_cnn_list)"
   ]
  },
  {
   "cell_type": "code",
   "execution_count": 409,
   "metadata": {},
   "outputs": [
    {
     "data": {
      "text/plain": [
       "array([[192593,      0],\n",
       "       [ 11124,    223]], dtype=int64)"
      ]
     },
     "execution_count": 409,
     "metadata": {},
     "output_type": "execute_result"
    }
   ],
   "source": [
    "matrix_cnn"
   ]
  },
  {
   "cell_type": "code",
   "execution_count": 410,
   "metadata": {},
   "outputs": [
    {
     "name": "stdout",
     "output_type": "stream",
     "text": [
      "accuracy_score :  0.9454545454545454\n",
      "precision_score :  1.0\n",
      "recall_score :  0.01965277165770688\n",
      "f1_score :  0.03854796888504754\n"
     ]
    }
   ],
   "source": [
    "print('accuracy_score : ',accuracy_score(y_test_list, y_pred_cnn_list))\n",
    "print('precision_score : ',precision_score(y_test_list, y_pred_cnn_list))\n",
    "print('recall_score : ',recall_score(y_test_list, y_pred_cnn_list))\n",
    "print('f1_score : ',f1_score(y_test_list, y_pred_cnn_list))"
   ]
  },
  {
   "cell_type": "code",
   "execution_count": 411,
   "metadata": {},
   "outputs": [],
   "source": [
    "import matplotlib.pyplot as plt\n",
    "plt.style.use('ggplot')\n",
    "\n",
    "def plot_history(history):\n",
    "    acc = history.history['accuracy']\n",
    "    val_acc = history.history['val_accuracy']\n",
    "    loss = history.history['loss']\n",
    "    val_loss = history.history['val_loss']\n",
    "    x = range(1, len(acc) + 1)\n",
    "\n",
    "    plt.figure(figsize=(12, 5))\n",
    "    plt.subplot(1, 2, 1)\n",
    "    plt.plot(x, acc, 'b', label='Training accuracy')\n",
    "    plt.plot(x, val_acc, 'r', label='Validation accuracy')\n",
    "    plt.title('Training and validation accuracy')\n",
    "    plt.legend()\n",
    "    plt.subplot(1, 2, 2)\n",
    "    plt.plot(x, loss, 'b', label='Training loss')\n",
    "    plt.plot(x, val_loss, 'r', label='Validation loss')\n",
    "    plt.title('Training and validation loss')\n",
    "    plt.legend()"
   ]
  },
  {
   "cell_type": "code",
   "execution_count": 412,
   "metadata": {},
   "outputs": [
    {
     "data": {
      "image/png": "[encoded data removed]",
      "text/plain": [
       "<Figure size 864x360 with 2 Axes>"
      ]
     },
     "metadata": {},
     "output_type": "display_data"
    }
   ],
   "source": [
    "plot_history(CNN)"
   ]
  },
  {
   "cell_type": "code",
   "execution_count": 413,
   "metadata": {},
   "outputs": [
    {
     "name": "stdout",
     "output_type": "stream",
     "text": [
      "dict_keys(['val_loss', 'val_accuracy', 'loss', 'accuracy'])\n"
     ]
    }
   ],
   "source": [
    "# list all data in history\n",
    "print(CNN.history.keys())"
   ]
  },
  {
   "cell_type": "code",
   "execution_count": 414,
   "metadata": {},
   "outputs": [
    {
     "data": {
      "image/png": "[encoded data removed]",
      "text/plain": [
       "<Figure size 432x288 with 1 Axes>"
      ]
     },
     "metadata": {},
     "output_type": "display_data"
    }
   ],
   "source": [
    "# summarize history for accuracy\n",
    "plt.plot(CNN.history['accuracy'])\n",
    "plt.plot(CNN.history['val_accuracy'])\n",
    "plt.title('model accuracy')\n",
    "plt.ylabel('accuracy')\n",
    "plt.xlabel('epoch')\n",
    "plt.legend(['train', 'test'], loc='upper left')\n",
    "plt.show()"
   ]
  },
  {
   "cell_type": "code",
   "execution_count": 415,
   "metadata": {},
   "outputs": [
    {
     "data": {
      "image/png": "[encoded data removed]",
      "text/plain": [
       "<Figure size 432x288 with 1 Axes>"
      ]
     },
     "metadata": {},
     "output_type": "display_data"
    }
   ],
   "source": [
    "# summarize history for loss\n",
    "plt.plot(CNN.history['loss'])\n",
    "plt.plot(CNN.history['val_loss'])\n",
    "plt.title('model loss')\n",
    "plt.ylabel('loss')\n",
    "plt.xlabel('epoch')\n",
    "plt.legend(['train', 'test'], loc='upper left')\n",
    "plt.show()"
   ]
  },
  {
   "cell_type": "markdown",
   "metadata": {},
   "source": [
    "# Predict test text"
   ]
  },
  {
   "cell_type": "code",
   "execution_count": 416,
   "metadata": {},
   "outputs": [],
   "source": [
    "test_text = test_text.replace(\" \", \"\")"
   ]
  },
  {
   "cell_type": "code",
   "execution_count": 417,
   "metadata": {},
   "outputs": [
    {
     "name": "stdout",
     "output_type": "stream",
     "text": [
      "['ส', '่', 'ง', 'ผ', 'ล', 'ต', '่', 'อ', 'ก', 'า', 'ร', 'พ', 'ั', 'ฒ', 'น', 'า', 'เ', 'ศ', 'ร', 'ษ', 'ฐ', 'ก', 'ิ', 'จ', 'โ', 'ด', 'ย', 'ต', 'ร', 'ง']\n",
      "30\n"
     ]
    }
   ],
   "source": [
    "char_test = split(test_text)\n",
    "print(char_test)\n",
    "print(len(char_test))"
   ]
  },
  {
   "cell_type": "code",
   "execution_count": 418,
   "metadata": {},
   "outputs": [
    {
     "name": "stdout",
     "output_type": "stream",
     "text": [
      "[3626, 3656, 3591, 3612, 3621, 3605, 3656, 3629, 3585, 3634, 3619, 3614, 3633, 3602, 3609, 3634, 3648, 3624, 3619, 3625, 3600, 3585, 3636, 3592, 3650, 3604, 3618, 3605, 3619, 3591]\n"
     ]
    }
   ],
   "source": [
    "sequence_test = []\n",
    "for i in char_test:\n",
    "    sequence_test.append(ord(i))\n",
    "    \n",
    "#test_ = pad_sequences(sequence_test,padding='post', maxlen = maxlen)\n",
    "\n",
    "print(sequence_test)\n",
    "#print(test_.shape)"
   ]
  },
  {
   "cell_type": "code",
   "execution_count": 419,
   "metadata": {},
   "outputs": [],
   "source": [
    "for i in range(maxlen - len(sequence_test)):\n",
    "   sequence_test.append(0)"
   ]
  },
  {
   "cell_type": "code",
   "execution_count": 420,
   "metadata": {},
   "outputs": [],
   "source": [
    "sequence_test = np.array(sequence_test)"
   ]
  },
  {
   "cell_type": "code",
   "execution_count": 421,
   "metadata": {},
   "outputs": [],
   "source": [
    "test_text_cnn = sequence_test.reshape(1,sequence_test.shape[0],1)"
   ]
  },
  {
   "cell_type": "code",
   "execution_count": 422,
   "metadata": {},
   "outputs": [],
   "source": [
    "prob_test_cnn = model_cnn_emb.predict(test_text_cnn)"
   ]
  },
  {
   "cell_type": "code",
   "execution_count": 423,
   "metadata": {},
   "outputs": [
    {
     "data": {
      "text/plain": [
       "(1, 165, 2)"
      ]
     },
     "execution_count": 423,
     "metadata": {},
     "output_type": "execute_result"
    }
   ],
   "source": [
    "prob_test_cnn.shape"
   ]
  },
  {
   "cell_type": "code",
   "execution_count": 424,
   "metadata": {},
   "outputs": [],
   "source": [
    "pred_test_cnn = np.where(prob_test_cnn > prob, 1, 0)"
   ]
  },
  {
   "cell_type": "code",
   "execution_count": 425,
   "metadata": {},
   "outputs": [
    {
     "data": {
      "text/plain": [
       "array([[0, 0, 0, 0, 0, 0, 0, 0, 0, 0, 0, 0, 0, 0, 0, 0, 0, 0, 0, 0, 0, 0,\n",
       "        0, 0, 0, 0, 0, 0, 0, 0, 0, 0, 0, 0, 0, 0, 0, 0, 0, 0, 0, 0, 0, 0,\n",
       "        0, 0, 0, 0, 0, 0, 0, 0, 0, 0, 0, 0, 0, 0, 0, 0, 0, 0, 0, 0, 0, 0,\n",
       "        0, 0, 0, 0, 0, 0, 0, 0, 0, 0, 0, 0, 0, 0, 0, 0, 0, 0, 0, 0, 0, 0,\n",
       "        0, 0, 0, 0, 0, 0, 0, 0, 0, 0, 0, 0, 0, 0, 0, 0, 0, 0, 0, 0, 0, 0,\n",
       "        0, 0, 0, 0, 0, 0, 0, 0, 0, 0, 0, 0, 0, 0, 0, 0, 0, 0, 0, 0, 0, 0,\n",
       "        0, 0, 0, 0, 0, 0, 0, 0, 0, 0, 0, 0, 0, 0, 0, 0, 0, 0, 0, 0, 0, 0,\n",
       "        0, 0, 0, 0, 0, 0, 0, 0, 0, 0, 0]], dtype=int64)"
      ]
     },
     "execution_count": 425,
     "metadata": {},
     "output_type": "execute_result"
    }
   ],
   "source": [
    "pred_test_cnn = np.argmax(pred_test_cnn, axis=-1)\n",
    "pred_test_cnn"
   ]
  },
  {
   "cell_type": "code",
   "execution_count": 426,
   "metadata": {},
   "outputs": [],
   "source": [
    "# pred_test_cnn = np.where(prob_test_cnn > prob, 1, 0)\n",
    "# pred_test_cnn = np.squeeze(pred_test_cnn)"
   ]
  },
  {
   "cell_type": "code",
   "execution_count": 427,
   "metadata": {},
   "outputs": [],
   "source": [
    "pred_test_cnn_list = pred_test_cnn.flatten().tolist()"
   ]
  },
  {
   "cell_type": "code",
   "execution_count": 428,
   "metadata": {},
   "outputs": [
    {
     "data": {
      "text/plain": [
       "(1, 165, 1)"
      ]
     },
     "execution_count": 428,
     "metadata": {},
     "output_type": "execute_result"
    }
   ],
   "source": [
    "test_text_cnn.shape"
   ]
  },
  {
   "cell_type": "code",
   "execution_count": 429,
   "metadata": {},
   "outputs": [],
   "source": [
    "def word_seg(x,y):\n",
    "    cut = []\n",
    "    w = ''\n",
    "    for i in range(len(x)):\n",
    "        print(i,x[i],y[i])\n",
    "        if i>0 and y[i]==1:\n",
    "            cut.append(w)\n",
    "            w = ''\n",
    "            w = w+x[i]\n",
    "        else:\n",
    "            w = w+x[i]\n",
    "    cut.append(w)\n",
    "    print(cut)\n",
    "    return(cut)"
   ]
  },
  {
   "cell_type": "code",
   "execution_count": 430,
   "metadata": {
    "scrolled": true
   },
   "outputs": [
    {
     "name": "stdout",
     "output_type": "stream",
     "text": [
      "0 ส 0\n",
      "1 ่ 0\n",
      "2 ง 0\n",
      "3 ผ 0\n",
      "4 ล 0\n",
      "5 ต 0\n",
      "6 ่ 0\n",
      "7 อ 0\n",
      "8 ก 0\n",
      "9 า 0\n",
      "10 ร 0\n",
      "11 พ 0\n",
      "12 ั 0\n",
      "13 ฒ 0\n",
      "14 น 0\n",
      "15 า 0\n",
      "16 เ 0\n",
      "17 ศ 0\n",
      "18 ร 0\n",
      "19 ษ 0\n",
      "20 ฐ 0\n",
      "21 ก 0\n",
      "22 ิ 0\n",
      "23 จ 0\n",
      "24 โ 0\n",
      "25 ด 0\n",
      "26 ย 0\n",
      "27 ต 0\n",
      "28 ร 0\n",
      "29 ง 0\n",
      "['ส่งผลต่อการพัฒนาเศรษฐกิจโดยตรง']\n"
     ]
    }
   ],
   "source": [
    "test_result = word_seg(char_test,pred_test_cnn_list)"
   ]
  },
  {
   "cell_type": "code",
   "execution_count": 431,
   "metadata": {},
   "outputs": [
    {
     "name": "stdout",
     "output_type": "stream",
     "text": [
      "test_text :  ส่งผลต่อการพัฒนาเศรษฐกิจโดยตรง\n",
      "result_cnn :  ['ส่งผลต่อการพัฒนาเศรษฐกิจโดยตรง']\n"
     ]
    }
   ],
   "source": [
    "print('test_text : ',test_text)\n",
    "print('result_cnn : ',test_result)"
   ]
  },
  {
   "cell_type": "code",
   "execution_count": null,
   "metadata": {},
   "outputs": [],
   "source": []
  }
 ],
 "metadata": {
  "kernelspec": {
   "display_name": "Python 3",
   "language": "python",
   "name": "python3"
  },
  "language_info": {
   "codemirror_mode": {
    "name": "ipython",
    "version": 3
   },
   "file_extension": ".py",
   "mimetype": "text/x-python",
   "name": "python",
   "nbconvert_exporter": "python",
   "pygments_lexer": "ipython3",
   "version": "3.7.3"
  }
 },
 "nbformat": 4,
 "nbformat_minor": 2
}
